{
 "cells": [
  {
   "cell_type": "code",
   "execution_count": 6,
   "metadata": {},
   "outputs": [],
   "source": [
    "from tqdm import tqdm\n",
    "import torch\n",
    "from pathlib import Path\n",
    "import numpy as np\n",
    "from tqdm import tqdm\n",
    "import pandas as pd\n",
    "\n",
    "from pyannote.core.utils.distance import l2_normalize\n",
    "from pyannote.core.utils.distance import cdist\n"
   ]
  },
  {
   "cell_type": "code",
   "execution_count": 7,
   "metadata": {},
   "outputs": [
    {
     "data": {
      "text/html": [
       "<div>\n",
       "<style scoped>\n",
       "    .dataframe tbody tr th:only-of-type {\n",
       "        vertical-align: middle;\n",
       "    }\n",
       "\n",
       "    .dataframe tbody tr th {\n",
       "        vertical-align: top;\n",
       "    }\n",
       "\n",
       "    .dataframe thead th {\n",
       "        text-align: right;\n",
       "    }\n",
       "</style>\n",
       "<table border=\"1\" class=\"dataframe\">\n",
       "  <thead>\n",
       "    <tr style=\"text-align: right;\">\n",
       "      <th></th>\n",
       "      <th>audio_1</th>\n",
       "      <th>audio_2</th>\n",
       "    </tr>\n",
       "  </thead>\n",
       "  <tbody>\n",
       "    <tr>\n",
       "      <th>0</th>\n",
       "      <td>T7fYnQEQQ7hB9C1U3sol.wav</td>\n",
       "      <td>yJR6UsH5TnxQ5ycq9O0G.wav</td>\n",
       "    </tr>\n",
       "    <tr>\n",
       "      <th>1</th>\n",
       "      <td>1WVLVeCruj7tu261yhHd.wav</td>\n",
       "      <td>FIwo7q7I1L9OzzINzt2F.wav</td>\n",
       "    </tr>\n",
       "    <tr>\n",
       "      <th>2</th>\n",
       "      <td>WwKWUD24X5WBwV5Z0mIS.wav</td>\n",
       "      <td>WIt1I8pO1WG4kU3efgvG.wav</td>\n",
       "    </tr>\n",
       "    <tr>\n",
       "      <th>3</th>\n",
       "      <td>v8HbqjJ636AXO3fjZZkn.wav</td>\n",
       "      <td>8x2MYH93DksbcCYyOM9w.wav</td>\n",
       "    </tr>\n",
       "    <tr>\n",
       "      <th>4</th>\n",
       "      <td>6na1QZDnV8g6B0cOewHM.wav</td>\n",
       "      <td>CSxg52Uk6cw86PweoLwL.wav</td>\n",
       "    </tr>\n",
       "    <tr>\n",
       "      <th>...</th>\n",
       "      <td>...</td>\n",
       "      <td>...</td>\n",
       "    </tr>\n",
       "    <tr>\n",
       "      <th>49995</th>\n",
       "      <td>Dmw4GNpw7CqAXrF4c92R.wav</td>\n",
       "      <td>0HGh6PToy6BDC2RY5nGi.wav</td>\n",
       "    </tr>\n",
       "    <tr>\n",
       "      <th>49996</th>\n",
       "      <td>UtOVS521Xw6R8IgvQabT.wav</td>\n",
       "      <td>6lTFhbq1p9TcdT4cYE5S.wav</td>\n",
       "    </tr>\n",
       "    <tr>\n",
       "      <th>49997</th>\n",
       "      <td>fi31uTmrY374iQFkqTQH.wav</td>\n",
       "      <td>yHBnOhr3EK5Hc75wuSS3.wav</td>\n",
       "    </tr>\n",
       "    <tr>\n",
       "      <th>49998</th>\n",
       "      <td>mnJwv1sa4M5qeVsFN42K.wav</td>\n",
       "      <td>73J2ZgsEzmk9kz4menQi.wav</td>\n",
       "    </tr>\n",
       "    <tr>\n",
       "      <th>49999</th>\n",
       "      <td>E2cQ8M5jpbuqDfB0X5GP.wav</td>\n",
       "      <td>QSd7qplB0sXCZgq36k0X.wav</td>\n",
       "    </tr>\n",
       "  </tbody>\n",
       "</table>\n",
       "<p>50000 rows × 2 columns</p>\n",
       "</div>"
      ],
      "text/plain": [
       "                        audio_1                   audio_2\n",
       "0      T7fYnQEQQ7hB9C1U3sol.wav  yJR6UsH5TnxQ5ycq9O0G.wav\n",
       "1      1WVLVeCruj7tu261yhHd.wav  FIwo7q7I1L9OzzINzt2F.wav\n",
       "2      WwKWUD24X5WBwV5Z0mIS.wav  WIt1I8pO1WG4kU3efgvG.wav\n",
       "3      v8HbqjJ636AXO3fjZZkn.wav  8x2MYH93DksbcCYyOM9w.wav\n",
       "4      6na1QZDnV8g6B0cOewHM.wav  CSxg52Uk6cw86PweoLwL.wav\n",
       "...                         ...                       ...\n",
       "49995  Dmw4GNpw7CqAXrF4c92R.wav  0HGh6PToy6BDC2RY5nGi.wav\n",
       "49996  UtOVS521Xw6R8IgvQabT.wav  6lTFhbq1p9TcdT4cYE5S.wav\n",
       "49997  fi31uTmrY374iQFkqTQH.wav  yHBnOhr3EK5Hc75wuSS3.wav\n",
       "49998  mnJwv1sa4M5qeVsFN42K.wav  73J2ZgsEzmk9kz4menQi.wav\n",
       "49999  E2cQ8M5jpbuqDfB0X5GP.wav  QSd7qplB0sXCZgq36k0X.wav\n",
       "\n",
       "[50000 rows x 2 columns]"
      ]
     },
     "execution_count": 7,
     "metadata": {},
     "output_type": "execute_result"
    }
   ],
   "source": [
    "df_test_sub"
   ]
  },
  {
   "cell_type": "code",
   "execution_count": 25,
   "metadata": {},
   "outputs": [
    {
     "name": "stderr",
     "output_type": "stream",
     "text": [
      "Using cache found in /home/ben/.cache/torch/hub/pyannote_pyannote-audio_master\n",
      "  0%|          | 22/50000 [00:00<07:53, 105.63it/s]"
     ]
    },
    {
     "name": "stdout",
     "output_type": "stream",
     "text": [
      "Distance is 0.44759261045642396 for index 0 \n"
     ]
    },
    {
     "name": "stderr",
     "output_type": "stream",
     "text": [
      "  2%|▏         | 1014/50000 [00:09<07:00, 116.62it/s]"
     ]
    },
    {
     "name": "stdout",
     "output_type": "stream",
     "text": [
      "Distance is 0.3300155283415823 for index 1000 \n"
     ]
    },
    {
     "name": "stderr",
     "output_type": "stream",
     "text": [
      "  4%|▍         | 2015/50000 [00:18<07:24, 107.93it/s]"
     ]
    },
    {
     "name": "stdout",
     "output_type": "stream",
     "text": [
      "Distance is 0.5851683523097466 for index 2000 \n"
     ]
    },
    {
     "name": "stderr",
     "output_type": "stream",
     "text": [
      "  6%|▌         | 3023/50000 [00:27<07:04, 110.64it/s]"
     ]
    },
    {
     "name": "stdout",
     "output_type": "stream",
     "text": [
      "Distance is 0.6693447340710225 for index 3000 \n"
     ]
    },
    {
     "name": "stderr",
     "output_type": "stream",
     "text": [
      "  8%|▊         | 4012/50000 [00:37<07:14, 105.92it/s]"
     ]
    },
    {
     "name": "stdout",
     "output_type": "stream",
     "text": [
      "Distance is 0.632388061525813 for index 4000 \n"
     ]
    },
    {
     "name": "stderr",
     "output_type": "stream",
     "text": [
      " 10%|█         | 5015/50000 [00:47<06:43, 111.40it/s]"
     ]
    },
    {
     "name": "stdout",
     "output_type": "stream",
     "text": [
      "Distance is 0.38726949490392737 for index 5000 \n"
     ]
    },
    {
     "name": "stderr",
     "output_type": "stream",
     "text": [
      " 12%|█▏        | 6009/50000 [00:56<07:15, 101.04it/s]"
     ]
    },
    {
     "name": "stdout",
     "output_type": "stream",
     "text": [
      "Distance is 0.8081110075962281 for index 6000 \n"
     ]
    },
    {
     "name": "stderr",
     "output_type": "stream",
     "text": [
      " 14%|█▍        | 7012/50000 [01:05<07:00, 102.17it/s]"
     ]
    },
    {
     "name": "stdout",
     "output_type": "stream",
     "text": [
      "Distance is 0.8609988979558916 for index 7000 \n"
     ]
    },
    {
     "name": "stderr",
     "output_type": "stream",
     "text": [
      " 16%|█▌        | 8018/50000 [01:15<06:29, 107.88it/s]"
     ]
    },
    {
     "name": "stdout",
     "output_type": "stream",
     "text": [
      "Distance is 0.9943866034786691 for index 8000 \n"
     ]
    },
    {
     "name": "stderr",
     "output_type": "stream",
     "text": [
      " 18%|█▊        | 9015/50000 [01:25<08:15, 82.74it/s] "
     ]
    },
    {
     "name": "stdout",
     "output_type": "stream",
     "text": [
      "Distance is 0.6040345330139751 for index 9000 \n"
     ]
    },
    {
     "name": "stderr",
     "output_type": "stream",
     "text": [
      " 20%|██        | 10017/50000 [01:34<06:11, 107.72it/s]"
     ]
    },
    {
     "name": "stdout",
     "output_type": "stream",
     "text": [
      "Distance is 0.5364642767907055 for index 10000 \n"
     ]
    },
    {
     "name": "stderr",
     "output_type": "stream",
     "text": [
      " 22%|██▏       | 11021/50000 [01:43<05:54, 110.06it/s]"
     ]
    },
    {
     "name": "stdout",
     "output_type": "stream",
     "text": [
      "Distance is 0.9751945438186647 for index 11000 \n"
     ]
    },
    {
     "name": "stderr",
     "output_type": "stream",
     "text": [
      " 24%|██▍       | 12019/50000 [01:53<05:48, 108.84it/s]"
     ]
    },
    {
     "name": "stdout",
     "output_type": "stream",
     "text": [
      "Distance is 0.5725765971601366 for index 12000 \n"
     ]
    },
    {
     "name": "stderr",
     "output_type": "stream",
     "text": [
      " 26%|██▌       | 13017/50000 [02:02<05:48, 105.97it/s]"
     ]
    },
    {
     "name": "stdout",
     "output_type": "stream",
     "text": [
      "Distance is 0.9763168079699454 for index 13000 \n"
     ]
    },
    {
     "name": "stderr",
     "output_type": "stream",
     "text": [
      " 28%|██▊       | 14019/50000 [02:11<05:55, 101.14it/s]"
     ]
    },
    {
     "name": "stdout",
     "output_type": "stream",
     "text": [
      "Distance is 0.4414868147302786 for index 14000 \n"
     ]
    },
    {
     "name": "stderr",
     "output_type": "stream",
     "text": [
      " 30%|███       | 15017/50000 [02:20<05:03, 115.34it/s]"
     ]
    },
    {
     "name": "stdout",
     "output_type": "stream",
     "text": [
      "Distance is 0.9237216139438208 for index 15000 \n"
     ]
    },
    {
     "name": "stderr",
     "output_type": "stream",
     "text": [
      " 32%|███▏      | 16011/50000 [02:30<05:15, 107.72it/s]"
     ]
    },
    {
     "name": "stdout",
     "output_type": "stream",
     "text": [
      "Distance is 0.6837104063922601 for index 16000 \n"
     ]
    },
    {
     "name": "stderr",
     "output_type": "stream",
     "text": [
      " 34%|███▍      | 17015/50000 [02:39<04:52, 112.81it/s]"
     ]
    },
    {
     "name": "stdout",
     "output_type": "stream",
     "text": [
      "Distance is 0.9824952125181808 for index 17000 \n"
     ]
    },
    {
     "name": "stderr",
     "output_type": "stream",
     "text": [
      " 36%|███▌      | 18017/50000 [02:48<05:11, 102.80it/s]"
     ]
    },
    {
     "name": "stdout",
     "output_type": "stream",
     "text": [
      "Distance is 0.5032105186197461 for index 18000 \n"
     ]
    },
    {
     "name": "stderr",
     "output_type": "stream",
     "text": [
      " 38%|███▊      | 19021/50000 [02:57<04:58, 103.87it/s]"
     ]
    },
    {
     "name": "stdout",
     "output_type": "stream",
     "text": [
      "Distance is 0.9162618535671375 for index 19000 \n"
     ]
    },
    {
     "name": "stderr",
     "output_type": "stream",
     "text": [
      " 40%|████      | 20019/50000 [03:06<04:17, 116.64it/s]"
     ]
    },
    {
     "name": "stdout",
     "output_type": "stream",
     "text": [
      "Distance is 0.24638620759563734 for index 20000 \n"
     ]
    },
    {
     "name": "stderr",
     "output_type": "stream",
     "text": [
      " 42%|████▏     | 21016/50000 [03:15<05:03, 95.61it/s] "
     ]
    },
    {
     "name": "stdout",
     "output_type": "stream",
     "text": [
      "Distance is 0.48018832409068035 for index 21000 \n"
     ]
    },
    {
     "name": "stderr",
     "output_type": "stream",
     "text": [
      " 44%|████▍     | 22017/50000 [03:24<04:05, 114.17it/s]"
     ]
    },
    {
     "name": "stdout",
     "output_type": "stream",
     "text": [
      "Distance is 0.5045874645138598 for index 22000 \n"
     ]
    },
    {
     "name": "stderr",
     "output_type": "stream",
     "text": [
      " 46%|████▌     | 23023/50000 [03:33<04:04, 110.45it/s]"
     ]
    },
    {
     "name": "stdout",
     "output_type": "stream",
     "text": [
      "Distance is 0.671024172268091 for index 23000 \n"
     ]
    },
    {
     "name": "stderr",
     "output_type": "stream",
     "text": [
      " 48%|████▊     | 24012/50000 [03:43<04:01, 107.45it/s]"
     ]
    },
    {
     "name": "stdout",
     "output_type": "stream",
     "text": [
      "Distance is 0.7141191853075461 for index 24000 \n"
     ]
    },
    {
     "name": "stderr",
     "output_type": "stream",
     "text": [
      " 50%|█████     | 25022/50000 [03:52<03:40, 113.53it/s]"
     ]
    },
    {
     "name": "stdout",
     "output_type": "stream",
     "text": [
      "Distance is 0.3113664953823463 for index 25000 \n"
     ]
    },
    {
     "name": "stderr",
     "output_type": "stream",
     "text": [
      " 52%|█████▏    | 26022/50000 [04:02<03:28, 114.90it/s]"
     ]
    },
    {
     "name": "stdout",
     "output_type": "stream",
     "text": [
      "Distance is 0.6764646383564259 for index 26000 \n"
     ]
    },
    {
     "name": "stderr",
     "output_type": "stream",
     "text": [
      " 54%|█████▍    | 27022/50000 [04:11<03:33, 107.52it/s]"
     ]
    },
    {
     "name": "stdout",
     "output_type": "stream",
     "text": [
      "Distance is 0.6217285342676393 for index 27000 \n"
     ]
    },
    {
     "name": "stderr",
     "output_type": "stream",
     "text": [
      " 56%|█████▌    | 28017/50000 [04:21<03:24, 107.41it/s]"
     ]
    },
    {
     "name": "stdout",
     "output_type": "stream",
     "text": [
      "Distance is 1.0063735009828434 for index 28000 \n"
     ]
    },
    {
     "name": "stderr",
     "output_type": "stream",
     "text": [
      " 58%|█████▊    | 29018/50000 [04:30<03:16, 106.68it/s]"
     ]
    },
    {
     "name": "stdout",
     "output_type": "stream",
     "text": [
      "Distance is 0.6876521103872537 for index 29000 \n"
     ]
    },
    {
     "name": "stderr",
     "output_type": "stream",
     "text": [
      " 60%|██████    | 30007/50000 [04:40<03:11, 104.39it/s]"
     ]
    },
    {
     "name": "stdout",
     "output_type": "stream",
     "text": [
      "Distance is 0.5900970940557213 for index 30000 \n"
     ]
    },
    {
     "name": "stderr",
     "output_type": "stream",
     "text": [
      " 62%|██████▏   | 31015/50000 [04:49<02:52, 109.76it/s]"
     ]
    },
    {
     "name": "stdout",
     "output_type": "stream",
     "text": [
      "Distance is 0.778038178092467 for index 31000 \n"
     ]
    },
    {
     "name": "stderr",
     "output_type": "stream",
     "text": [
      " 64%|██████▍   | 32016/50000 [04:59<02:53, 103.95it/s]"
     ]
    },
    {
     "name": "stdout",
     "output_type": "stream",
     "text": [
      "Distance is 0.945654208593383 for index 32000 \n"
     ]
    },
    {
     "name": "stderr",
     "output_type": "stream",
     "text": [
      " 66%|██████▌   | 33009/50000 [05:08<02:24, 117.80it/s]"
     ]
    },
    {
     "name": "stdout",
     "output_type": "stream",
     "text": [
      "Distance is 1.0963549986884107 for index 33000 \n"
     ]
    },
    {
     "name": "stderr",
     "output_type": "stream",
     "text": [
      " 68%|██████▊   | 34023/50000 [05:17<02:24, 110.31it/s]"
     ]
    },
    {
     "name": "stdout",
     "output_type": "stream",
     "text": [
      "Distance is 0.6889963346879409 for index 34000 \n"
     ]
    },
    {
     "name": "stderr",
     "output_type": "stream",
     "text": [
      " 70%|███████   | 35015/50000 [05:26<02:19, 107.51it/s]"
     ]
    },
    {
     "name": "stdout",
     "output_type": "stream",
     "text": [
      "Distance is 0.6149669012803716 for index 35000 \n"
     ]
    },
    {
     "name": "stderr",
     "output_type": "stream",
     "text": [
      " 72%|███████▏  | 36022/50000 [05:35<02:06, 110.30it/s]"
     ]
    },
    {
     "name": "stdout",
     "output_type": "stream",
     "text": [
      "Distance is 0.4717369806773989 for index 36000 \n"
     ]
    },
    {
     "name": "stderr",
     "output_type": "stream",
     "text": [
      " 74%|███████▍  | 37020/50000 [05:44<01:54, 112.98it/s]"
     ]
    },
    {
     "name": "stdout",
     "output_type": "stream",
     "text": [
      "Distance is 0.7579755107870465 for index 37000 \n"
     ]
    },
    {
     "name": "stderr",
     "output_type": "stream",
     "text": [
      " 76%|███████▌  | 38021/50000 [05:53<01:43, 115.23it/s]"
     ]
    },
    {
     "name": "stdout",
     "output_type": "stream",
     "text": [
      "Distance is 0.3555279863451174 for index 38000 \n"
     ]
    },
    {
     "name": "stderr",
     "output_type": "stream",
     "text": [
      " 78%|███████▊  | 39020/50000 [06:03<01:43, 105.89it/s]"
     ]
    },
    {
     "name": "stdout",
     "output_type": "stream",
     "text": [
      "Distance is 0.5638488341179995 for index 39000 \n"
     ]
    },
    {
     "name": "stderr",
     "output_type": "stream",
     "text": [
      " 80%|████████  | 40014/50000 [06:12<01:33, 106.72it/s]"
     ]
    },
    {
     "name": "stdout",
     "output_type": "stream",
     "text": [
      "Distance is 0.31380269548030704 for index 40000 \n"
     ]
    },
    {
     "name": "stderr",
     "output_type": "stream",
     "text": [
      " 82%|████████▏ | 41013/50000 [06:21<01:37, 92.09it/s] "
     ]
    },
    {
     "name": "stdout",
     "output_type": "stream",
     "text": [
      "Distance is 0.4827567364412666 for index 41000 \n"
     ]
    },
    {
     "name": "stderr",
     "output_type": "stream",
     "text": [
      " 84%|████████▍ | 42016/50000 [06:31<01:20, 98.97it/s] "
     ]
    },
    {
     "name": "stdout",
     "output_type": "stream",
     "text": [
      "Distance is 0.37593151615550213 for index 42000 \n"
     ]
    },
    {
     "name": "stderr",
     "output_type": "stream",
     "text": [
      " 86%|████████▌ | 43016/50000 [06:40<01:05, 106.32it/s]"
     ]
    },
    {
     "name": "stdout",
     "output_type": "stream",
     "text": [
      "Distance is 0.32524373008286633 for index 43000 \n"
     ]
    },
    {
     "name": "stderr",
     "output_type": "stream",
     "text": [
      " 88%|████████▊ | 44010/50000 [06:49<00:55, 107.09it/s]"
     ]
    },
    {
     "name": "stdout",
     "output_type": "stream",
     "text": [
      "Distance is 0.9079389082637266 for index 44000 \n"
     ]
    },
    {
     "name": "stderr",
     "output_type": "stream",
     "text": [
      " 90%|█████████ | 45010/50000 [06:58<00:48, 103.35it/s]"
     ]
    },
    {
     "name": "stdout",
     "output_type": "stream",
     "text": [
      "Distance is 0.18578936042469996 for index 45000 \n"
     ]
    },
    {
     "name": "stderr",
     "output_type": "stream",
     "text": [
      " 92%|█████████▏| 46021/50000 [07:09<00:35, 111.38it/s]"
     ]
    },
    {
     "name": "stdout",
     "output_type": "stream",
     "text": [
      "Distance is 0.6460675134300001 for index 46000 \n"
     ]
    },
    {
     "name": "stderr",
     "output_type": "stream",
     "text": [
      " 94%|█████████▍| 47012/50000 [07:18<00:26, 112.00it/s]"
     ]
    },
    {
     "name": "stdout",
     "output_type": "stream",
     "text": [
      "Distance is 0.9657987375744395 for index 47000 \n"
     ]
    },
    {
     "name": "stderr",
     "output_type": "stream",
     "text": [
      " 96%|█████████▌| 48013/50000 [07:27<00:17, 111.80it/s]"
     ]
    },
    {
     "name": "stdout",
     "output_type": "stream",
     "text": [
      "Distance is 0.22150881677130507 for index 48000 \n"
     ]
    },
    {
     "name": "stderr",
     "output_type": "stream",
     "text": [
      " 98%|█████████▊| 49019/50000 [07:36<00:09, 98.73it/s] "
     ]
    },
    {
     "name": "stdout",
     "output_type": "stream",
     "text": [
      "Distance is 0.722943421521751 for index 49000 \n"
     ]
    },
    {
     "name": "stderr",
     "output_type": "stream",
     "text": [
      "100%|██████████| 50000/50000 [07:46<00:00, 107.27it/s]\n"
     ]
    }
   ],
   "source": [
    "# speaker embedding model trained on AMI training set\n",
    "emb = torch.hub.load('pyannote/pyannote-audio', 'emb_voxceleb')\n",
    "\n",
    "df_test_sub = pd.read_csv(\"./Train-Test-Data/public-test.csv\")\n",
    "with tqdm(total=len(df_test_sub)) as pbar:\n",
    "    for i, row in df_test_sub.iterrows():\n",
    "        audio1_embedding = np.mean(emb({\"uri\": row[\"audio_1\"], \"audio\": \"Train-Test-Data/public-test/\" + str(row[\"audio_1\"])}), axis=0, keepdims=True)\n",
    "        audio2_embedding = np.mean(emb({\"uri\": row[\"audio_2\"], \"audio\": \"Train-Test-Data/public-test/\" + str(row[\"audio_2\"])}), axis=0, keepdims=True)\n",
    "        #X_audio1 = l2_normalize(np.array([audio1_embedding,]))\n",
    "        #X_audio2 = l2_normalize(np.array([audio2_embedding,]))\n",
    "        distance = cdist(audio1_embedding, audio2_embedding, metric=\"cosine\")\n",
    "        if (i % 1000) == 0:\n",
    "            print(f\"Distance is {distance[0][0]} for index {i} \")\n",
    "        dist = distance[0][0]\n",
    "        df_test_sub.loc[i, \"dist\"] = dist\n",
    "        if dist < 0.625:\n",
    "            df_test_sub.loc[i, \"label\"] = 1\n",
    "        else:\n",
    "            df_test_sub.loc[i, \"label\"] = 0\n",
    "        \n",
    "        pbar.update()"
   ]
  },
  {
   "cell_type": "code",
   "execution_count": 21,
   "metadata": {},
   "outputs": [
    {
     "data": {
      "text/plain": [
       "1.0    29769\n",
       "0.0    20231\n",
       "Name: label, dtype: int64"
      ]
     },
     "execution_count": 21,
     "metadata": {},
     "output_type": "execute_result"
    }
   ],
   "source": [
    "df_test_sub.to_csv(\"2_voxceleb_0p7thresh_26to23_oto1.csv\", index=False)\n",
    "\n",
    "df_test_sub[\"label\"].value_counts()"
   ]
  },
  {
   "cell_type": "code",
   "execution_count": 46,
   "metadata": {},
   "outputs": [
    {
     "data": {
      "text/plain": [
       "metric       0.00056\n",
       "threshold    0.60100\n",
       "ratio        1.00056\n",
       "Name: 558, dtype: float64"
      ]
     },
     "execution_count": 46,
     "metadata": {},
     "output_type": "execute_result"
    }
   ],
   "source": [
    "rows = []\n",
    "for i in np.arange(0, 1, 0.001):\n",
    "    result = (df_test_sub[\"dist\"] < i).value_counts()\n",
    "    if len(result) == 1: # if only one type of prediction just skip this\n",
    "        continue\n",
    "    ratio = result.loc[True] / result.loc[False] \n",
    "    minimise_metric = abs((ratio) -1)\n",
    "    rows.append({\"metric\": minimise_metric, \"threshold\":i, \"ratio\": ratio})\n",
    "_ = pd.DataFrame(rows)\n",
    "_.sort_values(\"metric\").iloc[0]"
   ]
  },
  {
   "cell_type": "code",
   "execution_count": 47,
   "metadata": {},
   "outputs": [],
   "source": [
    "df_test_sub[\"label\"] = df_test_sub[\"dist\"] < 0.60100\n",
    "df_test_sub[\"label\"] = df_test_sub[\"label\"].astype(\"int\")"
   ]
  },
  {
   "cell_type": "code",
   "execution_count": 43,
   "metadata": {},
   "outputs": [
    {
     "data": {
      "text/html": [
       "<div>\n",
       "<style scoped>\n",
       "    .dataframe tbody tr th:only-of-type {\n",
       "        vertical-align: middle;\n",
       "    }\n",
       "\n",
       "    .dataframe tbody tr th {\n",
       "        vertical-align: top;\n",
       "    }\n",
       "\n",
       "    .dataframe thead th {\n",
       "        text-align: right;\n",
       "    }\n",
       "</style>\n",
       "<table border=\"1\" class=\"dataframe\">\n",
       "  <thead>\n",
       "    <tr style=\"text-align: right;\">\n",
       "      <th></th>\n",
       "      <th>audio_1</th>\n",
       "      <th>audio_2</th>\n",
       "      <th>dist</th>\n",
       "      <th>label</th>\n",
       "    </tr>\n",
       "  </thead>\n",
       "  <tbody>\n",
       "    <tr>\n",
       "      <th>0</th>\n",
       "      <td>T7fYnQEQQ7hB9C1U3sol.wav</td>\n",
       "      <td>yJR6UsH5TnxQ5ycq9O0G.wav</td>\n",
       "      <td>0.447593</td>\n",
       "      <td>0</td>\n",
       "    </tr>\n",
       "    <tr>\n",
       "      <th>1</th>\n",
       "      <td>1WVLVeCruj7tu261yhHd.wav</td>\n",
       "      <td>FIwo7q7I1L9OzzINzt2F.wav</td>\n",
       "      <td>0.610862</td>\n",
       "      <td>1</td>\n",
       "    </tr>\n",
       "    <tr>\n",
       "      <th>2</th>\n",
       "      <td>WwKWUD24X5WBwV5Z0mIS.wav</td>\n",
       "      <td>WIt1I8pO1WG4kU3efgvG.wav</td>\n",
       "      <td>0.768750</td>\n",
       "      <td>1</td>\n",
       "    </tr>\n",
       "    <tr>\n",
       "      <th>3</th>\n",
       "      <td>v8HbqjJ636AXO3fjZZkn.wav</td>\n",
       "      <td>8x2MYH93DksbcCYyOM9w.wav</td>\n",
       "      <td>0.324183</td>\n",
       "      <td>0</td>\n",
       "    </tr>\n",
       "    <tr>\n",
       "      <th>4</th>\n",
       "      <td>6na1QZDnV8g6B0cOewHM.wav</td>\n",
       "      <td>CSxg52Uk6cw86PweoLwL.wav</td>\n",
       "      <td>0.498410</td>\n",
       "      <td>0</td>\n",
       "    </tr>\n",
       "    <tr>\n",
       "      <th>...</th>\n",
       "      <td>...</td>\n",
       "      <td>...</td>\n",
       "      <td>...</td>\n",
       "      <td>...</td>\n",
       "    </tr>\n",
       "    <tr>\n",
       "      <th>49995</th>\n",
       "      <td>Dmw4GNpw7CqAXrF4c92R.wav</td>\n",
       "      <td>0HGh6PToy6BDC2RY5nGi.wav</td>\n",
       "      <td>0.600946</td>\n",
       "      <td>0</td>\n",
       "    </tr>\n",
       "    <tr>\n",
       "      <th>49996</th>\n",
       "      <td>UtOVS521Xw6R8IgvQabT.wav</td>\n",
       "      <td>6lTFhbq1p9TcdT4cYE5S.wav</td>\n",
       "      <td>0.392600</td>\n",
       "      <td>0</td>\n",
       "    </tr>\n",
       "    <tr>\n",
       "      <th>49997</th>\n",
       "      <td>fi31uTmrY374iQFkqTQH.wav</td>\n",
       "      <td>yHBnOhr3EK5Hc75wuSS3.wav</td>\n",
       "      <td>0.824705</td>\n",
       "      <td>1</td>\n",
       "    </tr>\n",
       "    <tr>\n",
       "      <th>49998</th>\n",
       "      <td>mnJwv1sa4M5qeVsFN42K.wav</td>\n",
       "      <td>73J2ZgsEzmk9kz4menQi.wav</td>\n",
       "      <td>0.526701</td>\n",
       "      <td>0</td>\n",
       "    </tr>\n",
       "    <tr>\n",
       "      <th>49999</th>\n",
       "      <td>E2cQ8M5jpbuqDfB0X5GP.wav</td>\n",
       "      <td>QSd7qplB0sXCZgq36k0X.wav</td>\n",
       "      <td>0.862412</td>\n",
       "      <td>1</td>\n",
       "    </tr>\n",
       "  </tbody>\n",
       "</table>\n",
       "<p>50000 rows × 4 columns</p>\n",
       "</div>"
      ],
      "text/plain": [
       "                        audio_1                   audio_2      dist  label\n",
       "0      T7fYnQEQQ7hB9C1U3sol.wav  yJR6UsH5TnxQ5ycq9O0G.wav  0.447593      0\n",
       "1      1WVLVeCruj7tu261yhHd.wav  FIwo7q7I1L9OzzINzt2F.wav  0.610862      1\n",
       "2      WwKWUD24X5WBwV5Z0mIS.wav  WIt1I8pO1WG4kU3efgvG.wav  0.768750      1\n",
       "3      v8HbqjJ636AXO3fjZZkn.wav  8x2MYH93DksbcCYyOM9w.wav  0.324183      0\n",
       "4      6na1QZDnV8g6B0cOewHM.wav  CSxg52Uk6cw86PweoLwL.wav  0.498410      0\n",
       "...                         ...                       ...       ...    ...\n",
       "49995  Dmw4GNpw7CqAXrF4c92R.wav  0HGh6PToy6BDC2RY5nGi.wav  0.600946      0\n",
       "49996  UtOVS521Xw6R8IgvQabT.wav  6lTFhbq1p9TcdT4cYE5S.wav  0.392600      0\n",
       "49997  fi31uTmrY374iQFkqTQH.wav  yHBnOhr3EK5Hc75wuSS3.wav  0.824705      1\n",
       "49998  mnJwv1sa4M5qeVsFN42K.wav  73J2ZgsEzmk9kz4menQi.wav  0.526701      0\n",
       "49999  E2cQ8M5jpbuqDfB0X5GP.wav  QSd7qplB0sXCZgq36k0X.wav  0.862412      1\n",
       "\n",
       "[50000 rows x 4 columns]"
      ]
     },
     "execution_count": 43,
     "metadata": {},
     "output_type": "execute_result"
    }
   ],
   "source": [
    "df_test_sub"
   ]
  },
  {
   "cell_type": "code",
   "execution_count": 48,
   "metadata": {},
   "outputs": [],
   "source": [
    "df_write = df_test_sub[[\"audio_1\", \"audio_2\", \"label\"]]\n",
    "df_write.to_csv(\"2_voxceleb_0p60100threshhhh.csv\", index=False)\n"
   ]
  }
 ],
 "metadata": {
  "kernelspec": {
   "display_name": "pyannote",
   "language": "python",
   "name": "pyannote"
  },
  "language_info": {
   "codemirror_mode": {
    "name": "ipython",
    "version": 3
   },
   "file_extension": ".py",
   "mimetype": "text/x-python",
   "name": "python",
   "nbconvert_exporter": "python",
   "pygments_lexer": "ipython3",
   "version": "3.7.9"
  }
 },
 "nbformat": 4,
 "nbformat_minor": 4
}
