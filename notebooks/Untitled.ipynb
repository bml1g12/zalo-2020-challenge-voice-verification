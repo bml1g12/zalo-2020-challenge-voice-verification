{
 "cells": [
  {
   "cell_type": "code",
   "execution_count": 3,
   "metadata": {},
   "outputs": [
    {
     "name": "stderr",
     "output_type": "stream",
     "text": [
      "Using cache found in /home/ben/.cache/torch/hub/pyannote_pyannote-audio_master\n"
     ]
    },
    {
     "name": "stdout",
     "output_type": "stream",
     "text": [
      "Downloading: \"https://github.com/pyannote/pyannote-audio/archive/develop.zip\" to /home/ben/.cache/torch/hub/develop.zip\n",
      "Traceback (most recent call last):\n",
      "  File \"/home/ben/anaconda3/envs/pyannote/bin/pyannote-audio\", line 8, in <module>\n",
      "    sys.exit(main())\n",
      "  File \"/home/ben/anaconda3/envs/pyannote/lib/python3.7/site-packages/pyannote/audio/applications/pyannote_audio.py\", line 363, in main\n",
      "    app.train(protocol, **params)\n",
      "  File \"/home/ben/anaconda3/envs/pyannote/lib/python3.7/site-packages/pyannote/audio/applications/base.py\", line 185, in train\n",
      "    preprocessors=self.preprocessors_)\n",
      "TypeError: get_protocol() got an unexpected keyword argument 'progress'\n",
      "\u001b[0m"
     ]
    }
   ],
   "source": [
    "import torch\n",
    "torch.hub.list(\"pyannote/pyannote-audio\")\n",
    "\n",
    "!pyannote-audio emb train --pretrained=emb_voxceleb --subset=train --to=5 --parallel=4 . AMI.SpeakerDiarization.MixHeadset"
   ]
  }
 ],
 "metadata": {
  "kernelspec": {
   "display_name": "pyannote",
   "language": "python",
   "name": "pyannote"
  },
  "language_info": {
   "codemirror_mode": {
    "name": "ipython",
    "version": 3
   },
   "file_extension": ".py",
   "mimetype": "text/x-python",
   "name": "python",
   "nbconvert_exporter": "python",
   "pygments_lexer": "ipython3",
   "version": "3.7.9"
  }
 },
 "nbformat": 4,
 "nbformat_minor": 4
}
