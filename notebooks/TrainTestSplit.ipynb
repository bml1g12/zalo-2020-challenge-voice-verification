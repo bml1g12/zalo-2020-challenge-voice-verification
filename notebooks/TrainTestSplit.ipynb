{
 "cells": [
  {
   "cell_type": "code",
   "execution_count": 1,
   "metadata": {},
   "outputs": [],
   "source": [
    "from pathlib import Path\n",
    "import pandas as pd\n",
    "import numpy as np\n",
    "from sklearn.model_selection import train_test_split\n",
    "from sklearn.metrics import accuracy_score\n",
    "from sklearn.metrics import roc_curve\n",
    "from tqdm import tqdm\n",
    "import librosa"
   ]
  },
  {
   "cell_type": "markdown",
   "metadata": {},
   "source": [
    "# Prepare train-dev-test"
   ]
  },
  {
   "cell_type": "code",
   "execution_count": 2,
   "metadata": {},
   "outputs": [
    {
     "name": "stdout",
     "output_type": "stream",
     "text": [
      "Number of unique speakers: 400\n",
      "320 40 40\n",
      "8533 990 1033\n"
     ]
    }
   ],
   "source": [
    "root_path=Path(\"/media/ben/datadrive/Zalo/voice-verification/\")\n",
    "files = list(root_path.joinpath(Path(\"./Train-Test-Data/dataset/\")).glob(\"./*/*.wav\"))\n",
    "paths = [f for f in files]\n",
    "filenames = [f.name for f in files]\n",
    "speaker_ids = [str(f.parents[0].name) for f in files]\n",
    "uri = [str(f.parents[0].name) + \"_\" + str(f.stem) for f in files]\n",
    "_, y_true = np.unique(speaker_ids, return_inverse=True)\n",
    "df = pd.DataFrame({\"filenames\": filenames, \"speaker_id\": speaker_ids, \"uri\": uri, \"path\": paths, \"y_true\": y_true})\n",
    "\n",
    "np.random.seed(0)\n",
    "print(\"Number of unique speakers:\", len(df[\"y_true\"].unique()))\n",
    "\n",
    "y_true_unique = df[\"y_true\"].unique()\n",
    "dataX = y_true_unique.copy()\n",
    "test_len = int(round(len(y_true_unique)*0.1))\n",
    "dev_len = int(round(len(y_true_unique)*0.1))\n",
    "train_len = int(round(len(y_true_unique)*0.8))\n",
    "\n",
    "train_ratio = 0.80\n",
    "validation_ratio = 0.10\n",
    "test_ratio = 0.10\n",
    "\n",
    "# train is now 75% of the entire data set\n",
    "# the _junk suffix means that we drop that variable completely\n",
    "x_train, x_test, y_train, y_test = train_test_split(dataX, y_true_unique, test_size=1 - train_ratio)\n",
    "\n",
    "# test is now 10% of the initial data set\n",
    "# validation is now 15% of the initial data set\n",
    "x_val, x_test, y_val, y_test = train_test_split(x_test, y_test, test_size=test_ratio/(test_ratio + validation_ratio)) \n",
    "\n",
    "\n",
    "print(len(y_train), len(y_val), len(y_test))\n",
    "#np.random.shuffle(y_true_unique)\n",
    "#y_true_unique\n",
    "y_train_speakers = y_true_unique[0:320]\n",
    "y_val_speakers = y_true_unique[320:360]\n",
    "y_test_speakers = y_true_unique[360:]\n",
    "df_train = df[df[\"y_true\"].isin(y_train_speakers)]\n",
    "df_val = df[df[\"y_true\"].isin(y_val_speakers)]\n",
    "df_test = df[df[\"y_true\"].isin(y_test_speakers)]\n",
    "print(len(df_train), len(df_val), len(df_test))"
   ]
  },
  {
   "cell_type": "markdown",
   "metadata": {},
   "source": [
    "# Prepare the speaker verification expts in each train-dev-test"
   ]
  },
  {
   "cell_type": "code",
   "execution_count": 3,
   "metadata": {},
   "outputs": [
    {
     "name": "stderr",
     "output_type": "stream",
     "text": [
      "  0%|          | 33/8533 [00:00<00:26, 323.89it/s]"
     ]
    },
    {
     "name": "stdout",
     "output_type": "stream",
     "text": [
      "Preparing train\n"
     ]
    },
    {
     "name": "stderr",
     "output_type": "stream",
     "text": [
      "100%|██████████| 8533/8533 [00:21<00:00, 397.63it/s]\n",
      "  5%|▌         | 54/990 [00:00<00:01, 532.93it/s]"
     ]
    },
    {
     "name": "stdout",
     "output_type": "stream",
     "text": [
      "Preparing val\n"
     ]
    },
    {
     "name": "stderr",
     "output_type": "stream",
     "text": [
      "100%|██████████| 990/990 [00:01<00:00, 539.49it/s]\n",
      "  5%|▌         | 53/1033 [00:00<00:01, 520.09it/s]"
     ]
    },
    {
     "name": "stdout",
     "output_type": "stream",
     "text": [
      "Preparing test\n"
     ]
    },
    {
     "name": "stderr",
     "output_type": "stream",
     "text": [
      "100%|██████████| 1033/1033 [00:01<00:00, 535.15it/s]\n"
     ]
    }
   ],
   "source": [
    "pd.options.mode.chained_assignment = None\n",
    "def generate_verfication_trials_df(inplace_df):\n",
    "    np.random.seed(0)\n",
    "    row = {}\n",
    "    with tqdm(total=len(inplace_df)) as pbar:\n",
    "        for i, group in inplace_df.groupby(\"y_true\"):\n",
    "            num_samples_this_speaker = len(group)\n",
    "            current_speaker_id_of_group = group.y_true.unique()[0]\n",
    "            for i, (index, row) in enumerate(group.iterrows()):\n",
    "                # For the first half of the group, pair with a random item from the group\n",
    "                # For the second half of the group, pair with a random item not in the group\n",
    "                if i > round(num_samples_this_speaker/2.):\n",
    "                    sample = inplace_df[inplace_df[\"y_true\"] == current_speaker_id_of_group].sample()\n",
    "                    audio2_path = sample.iloc[0][\"path\"]\n",
    "                    audio2_label = sample.iloc[0][\"y_true\"]\n",
    "                    audio2_uri = sample.iloc[0][\"uri\"]\n",
    "                else:\n",
    "                    sample = inplace_df[inplace_df[\"y_true\"] != current_speaker_id_of_group].sample()\n",
    "                    audio2_path = sample.iloc[0][\"path\"]\n",
    "                    audio2_label = sample.iloc[0][\"y_true\"]\n",
    "                    audio2_uri = sample.iloc[0][\"uri\"]\n",
    "                inplace_df.loc[index, \"audio2_path\"] = audio2_path\n",
    "                inplace_df.loc[index, \"audio2_label\"] = audio2_label\n",
    "                inplace_df.loc[index, \"audio2_uri\"] = audio2_uri\n",
    "                pbar.update()\n",
    "    inplace_df[\"y_comparison\"] = inplace_df[\"y_true\"] == inplace_df[\"audio2_label\"]\n",
    "    \n",
    "    return inplace_df\n",
    "\n",
    "    \n",
    "pd.set_option('display.min_rows', 10)\n",
    "print(\"Preparing train\")\n",
    "df_train = generate_verfication_trials_df(df_train)\n",
    "print(\"Preparing val\")\n",
    "df_val = generate_verfication_trials_df(df_val)\n",
    "print(\"Preparing test\")\n",
    "df_test = generate_verfication_trials_df(df_test)\n",
    "\n",
    "def get_duration(path):\n",
    "    duration = librosa.get_duration(filename=path)\n",
    "    return duration\n",
    "df_train.loc[:, \"duration\"] = df_train[\"path\"].apply(get_duration)\n",
    "df_train.loc[:, \"audio2_duration\"] = df_train[\"audio2_path\"].apply(get_duration)\n",
    "df_val.loc[:, \"duration\"] = df_val[\"path\"].apply(get_duration)\n",
    "df_val.loc[:, \"audio2_duration\"] = df_val[\"audio2_path\"].apply(get_duration)\n",
    "df_test.loc[:, \"duration\"] = df_test[\"path\"].apply(get_duration)\n",
    "df_test.loc[:, \"audio2_duration\"] = df_test[\"audio2_path\"].apply(get_duration)\n",
    "\n",
    "pd.options.mode.chained_assignment = \"warn\""
   ]
  },
  {
   "cell_type": "code",
   "execution_count": 8,
   "metadata": {},
   "outputs": [
    {
     "data": {
      "text/html": [
       "<div>\n",
       "<style scoped>\n",
       "    .dataframe tbody tr th:only-of-type {\n",
       "        vertical-align: middle;\n",
       "    }\n",
       "\n",
       "    .dataframe tbody tr th {\n",
       "        vertical-align: top;\n",
       "    }\n",
       "\n",
       "    .dataframe thead th {\n",
       "        text-align: right;\n",
       "    }\n",
       "</style>\n",
       "<table border=\"1\" class=\"dataframe\">\n",
       "  <thead>\n",
       "    <tr style=\"text-align: right;\">\n",
       "      <th></th>\n",
       "      <th>filenames</th>\n",
       "      <th>speaker_id</th>\n",
       "      <th>uri</th>\n",
       "      <th>path</th>\n",
       "      <th>y_true</th>\n",
       "      <th>rttm</th>\n",
       "      <th>uem</th>\n",
       "      <th>audio2_path</th>\n",
       "      <th>audio2_label</th>\n",
       "      <th>audio2_uri</th>\n",
       "      <th>y_comparison</th>\n",
       "    </tr>\n",
       "  </thead>\n",
       "  <tbody>\n",
       "    <tr>\n",
       "      <th>0</th>\n",
       "      <td>747-8.wav</td>\n",
       "      <td>747-F-31</td>\n",
       "      <td>747-F-31_747-8</td>\n",
       "      <td>/media/ben/datadrive/Zalo/voice-verification/T...</td>\n",
       "      <td>307</td>\n",
       "      <td>SPEAKER 747-F-31/747-8 1 0 0.9923958333333334 ...</td>\n",
       "      <td>747-F-31/747-8 NA 0.000 0.9923958333333334\\n</td>\n",
       "      <td>/media/ben/datadrive/Zalo/voice-verification/T...</td>\n",
       "      <td>392.0</td>\n",
       "      <td>81-F-31_81-4</td>\n",
       "      <td>False</td>\n",
       "    </tr>\n",
       "    <tr>\n",
       "      <th>1</th>\n",
       "      <td>747-10.wav</td>\n",
       "      <td>747-F-31</td>\n",
       "      <td>747-F-31_747-10</td>\n",
       "      <td>/media/ben/datadrive/Zalo/voice-verification/T...</td>\n",
       "      <td>307</td>\n",
       "      <td>SPEAKER 747-F-31/747-10 1 0 1.4780416666666667...</td>\n",
       "      <td>747-F-31/747-10 NA 0.000 1.4780416666666667\\n</td>\n",
       "      <td>/media/ben/datadrive/Zalo/voice-verification/T...</td>\n",
       "      <td>86.0</td>\n",
       "      <td>444-F-27_444-25</td>\n",
       "      <td>False</td>\n",
       "    </tr>\n",
       "    <tr>\n",
       "      <th>2</th>\n",
       "      <td>747-15.wav</td>\n",
       "      <td>747-F-31</td>\n",
       "      <td>747-F-31_747-15</td>\n",
       "      <td>/media/ben/datadrive/Zalo/voice-verification/T...</td>\n",
       "      <td>307</td>\n",
       "      <td>SPEAKER 747-F-31/747-15 1 0 0.8234791666666667...</td>\n",
       "      <td>747-F-31/747-15 NA 0.000 0.8234791666666667\\n</td>\n",
       "      <td>/media/ben/datadrive/Zalo/voice-verification/T...</td>\n",
       "      <td>35.0</td>\n",
       "      <td>70-M-38_70-12</td>\n",
       "      <td>False</td>\n",
       "    </tr>\n",
       "    <tr>\n",
       "      <th>3</th>\n",
       "      <td>747-3.wav</td>\n",
       "      <td>747-F-31</td>\n",
       "      <td>747-F-31_747-3</td>\n",
       "      <td>/media/ben/datadrive/Zalo/voice-verification/T...</td>\n",
       "      <td>307</td>\n",
       "      <td>SPEAKER 747-F-31/747-3 1 0 6.249979166666667 &lt;...</td>\n",
       "      <td>747-F-31/747-3 NA 0.000 6.249979166666667\\n</td>\n",
       "      <td>/media/ben/datadrive/Zalo/voice-verification/T...</td>\n",
       "      <td>47.0</td>\n",
       "      <td>646-M-31_646-11</td>\n",
       "      <td>False</td>\n",
       "    </tr>\n",
       "    <tr>\n",
       "      <th>4</th>\n",
       "      <td>747-7.wav</td>\n",
       "      <td>747-F-31</td>\n",
       "      <td>747-F-31_747-7</td>\n",
       "      <td>/media/ben/datadrive/Zalo/voice-verification/T...</td>\n",
       "      <td>307</td>\n",
       "      <td>SPEAKER 747-F-31/747-7 1 0 1.0768541666666667 ...</td>\n",
       "      <td>747-F-31/747-7 NA 0.000 1.0768541666666667\\n</td>\n",
       "      <td>/media/ben/datadrive/Zalo/voice-verification/T...</td>\n",
       "      <td>223.0</td>\n",
       "      <td>428-M-25_428-18</td>\n",
       "      <td>False</td>\n",
       "    </tr>\n",
       "    <tr>\n",
       "      <th>...</th>\n",
       "      <td>...</td>\n",
       "      <td>...</td>\n",
       "      <td>...</td>\n",
       "      <td>...</td>\n",
       "      <td>...</td>\n",
       "      <td>...</td>\n",
       "      <td>...</td>\n",
       "      <td>...</td>\n",
       "      <td>...</td>\n",
       "      <td>...</td>\n",
       "      <td>...</td>\n",
       "    </tr>\n",
       "    <tr>\n",
       "      <th>8528</th>\n",
       "      <td>642-17.wav</td>\n",
       "      <td>642-F-32</td>\n",
       "      <td>642-F-32_642-17</td>\n",
       "      <td>/media/ben/datadrive/Zalo/voice-verification/T...</td>\n",
       "      <td>216</td>\n",
       "      <td>SPEAKER 642-F-32/642-17 1 0 1.4369375 &lt;NA&gt; &lt;NA...</td>\n",
       "      <td>642-F-32/642-17 NA 0.000 1.4369375\\n</td>\n",
       "      <td>/media/ben/datadrive/Zalo/voice-verification/T...</td>\n",
       "      <td>216.0</td>\n",
       "      <td>642-F-32_642-17</td>\n",
       "      <td>True</td>\n",
       "    </tr>\n",
       "    <tr>\n",
       "      <th>8529</th>\n",
       "      <td>642-2.wav</td>\n",
       "      <td>642-F-32</td>\n",
       "      <td>642-F-32_642-2</td>\n",
       "      <td>/media/ben/datadrive/Zalo/voice-verification/T...</td>\n",
       "      <td>216</td>\n",
       "      <td>SPEAKER 642-F-32/642-2 1 0 1.3219791666666667 ...</td>\n",
       "      <td>642-F-32/642-2 NA 0.000 1.3219791666666667\\n</td>\n",
       "      <td>/media/ben/datadrive/Zalo/voice-verification/T...</td>\n",
       "      <td>216.0</td>\n",
       "      <td>642-F-32_642-11</td>\n",
       "      <td>True</td>\n",
       "    </tr>\n",
       "    <tr>\n",
       "      <th>8530</th>\n",
       "      <td>642-9.wav</td>\n",
       "      <td>642-F-32</td>\n",
       "      <td>642-F-32_642-9</td>\n",
       "      <td>/media/ben/datadrive/Zalo/voice-verification/T...</td>\n",
       "      <td>216</td>\n",
       "      <td>SPEAKER 642-F-32/642-9 1 0 2.557729166666667 &lt;...</td>\n",
       "      <td>642-F-32/642-9 NA 0.000 2.557729166666667\\n</td>\n",
       "      <td>/media/ben/datadrive/Zalo/voice-verification/T...</td>\n",
       "      <td>216.0</td>\n",
       "      <td>642-F-32_642-17</td>\n",
       "      <td>True</td>\n",
       "    </tr>\n",
       "    <tr>\n",
       "      <th>8531</th>\n",
       "      <td>642-6.wav</td>\n",
       "      <td>642-F-32</td>\n",
       "      <td>642-F-32_642-6</td>\n",
       "      <td>/media/ben/datadrive/Zalo/voice-verification/T...</td>\n",
       "      <td>216</td>\n",
       "      <td>SPEAKER 642-F-32/642-6 1 0 5.431604166666666 &lt;...</td>\n",
       "      <td>642-F-32/642-6 NA 0.000 5.431604166666666\\n</td>\n",
       "      <td>/media/ben/datadrive/Zalo/voice-verification/T...</td>\n",
       "      <td>216.0</td>\n",
       "      <td>642-F-32_642-12</td>\n",
       "      <td>True</td>\n",
       "    </tr>\n",
       "    <tr>\n",
       "      <th>8532</th>\n",
       "      <td>642-4.wav</td>\n",
       "      <td>642-F-32</td>\n",
       "      <td>642-F-32_642-4</td>\n",
       "      <td>/media/ben/datadrive/Zalo/voice-verification/T...</td>\n",
       "      <td>216</td>\n",
       "      <td>SPEAKER 642-F-32/642-4 1 0 0.6897291666666666 ...</td>\n",
       "      <td>642-F-32/642-4 NA 0.000 0.6897291666666666\\n</td>\n",
       "      <td>/media/ben/datadrive/Zalo/voice-verification/T...</td>\n",
       "      <td>216.0</td>\n",
       "      <td>642-F-32_642-8</td>\n",
       "      <td>True</td>\n",
       "    </tr>\n",
       "  </tbody>\n",
       "</table>\n",
       "<p>8533 rows × 11 columns</p>\n",
       "</div>"
      ],
      "text/plain": [
       "       filenames speaker_id              uri  \\\n",
       "0      747-8.wav   747-F-31   747-F-31_747-8   \n",
       "1     747-10.wav   747-F-31  747-F-31_747-10   \n",
       "2     747-15.wav   747-F-31  747-F-31_747-15   \n",
       "3      747-3.wav   747-F-31   747-F-31_747-3   \n",
       "4      747-7.wav   747-F-31   747-F-31_747-7   \n",
       "...          ...        ...              ...   \n",
       "8528  642-17.wav   642-F-32  642-F-32_642-17   \n",
       "8529   642-2.wav   642-F-32   642-F-32_642-2   \n",
       "8530   642-9.wav   642-F-32   642-F-32_642-9   \n",
       "8531   642-6.wav   642-F-32   642-F-32_642-6   \n",
       "8532   642-4.wav   642-F-32   642-F-32_642-4   \n",
       "\n",
       "                                                   path  y_true  \\\n",
       "0     /media/ben/datadrive/Zalo/voice-verification/T...     307   \n",
       "1     /media/ben/datadrive/Zalo/voice-verification/T...     307   \n",
       "2     /media/ben/datadrive/Zalo/voice-verification/T...     307   \n",
       "3     /media/ben/datadrive/Zalo/voice-verification/T...     307   \n",
       "4     /media/ben/datadrive/Zalo/voice-verification/T...     307   \n",
       "...                                                 ...     ...   \n",
       "8528  /media/ben/datadrive/Zalo/voice-verification/T...     216   \n",
       "8529  /media/ben/datadrive/Zalo/voice-verification/T...     216   \n",
       "8530  /media/ben/datadrive/Zalo/voice-verification/T...     216   \n",
       "8531  /media/ben/datadrive/Zalo/voice-verification/T...     216   \n",
       "8532  /media/ben/datadrive/Zalo/voice-verification/T...     216   \n",
       "\n",
       "                                                   rttm  \\\n",
       "0     SPEAKER 747-F-31/747-8 1 0 0.9923958333333334 ...   \n",
       "1     SPEAKER 747-F-31/747-10 1 0 1.4780416666666667...   \n",
       "2     SPEAKER 747-F-31/747-15 1 0 0.8234791666666667...   \n",
       "3     SPEAKER 747-F-31/747-3 1 0 6.249979166666667 <...   \n",
       "4     SPEAKER 747-F-31/747-7 1 0 1.0768541666666667 ...   \n",
       "...                                                 ...   \n",
       "8528  SPEAKER 642-F-32/642-17 1 0 1.4369375 <NA> <NA...   \n",
       "8529  SPEAKER 642-F-32/642-2 1 0 1.3219791666666667 ...   \n",
       "8530  SPEAKER 642-F-32/642-9 1 0 2.557729166666667 <...   \n",
       "8531  SPEAKER 642-F-32/642-6 1 0 5.431604166666666 <...   \n",
       "8532  SPEAKER 642-F-32/642-4 1 0 0.6897291666666666 ...   \n",
       "\n",
       "                                                uem  \\\n",
       "0      747-F-31/747-8 NA 0.000 0.9923958333333334\\n   \n",
       "1     747-F-31/747-10 NA 0.000 1.4780416666666667\\n   \n",
       "2     747-F-31/747-15 NA 0.000 0.8234791666666667\\n   \n",
       "3       747-F-31/747-3 NA 0.000 6.249979166666667\\n   \n",
       "4      747-F-31/747-7 NA 0.000 1.0768541666666667\\n   \n",
       "...                                             ...   \n",
       "8528           642-F-32/642-17 NA 0.000 1.4369375\\n   \n",
       "8529   642-F-32/642-2 NA 0.000 1.3219791666666667\\n   \n",
       "8530    642-F-32/642-9 NA 0.000 2.557729166666667\\n   \n",
       "8531    642-F-32/642-6 NA 0.000 5.431604166666666\\n   \n",
       "8532   642-F-32/642-4 NA 0.000 0.6897291666666666\\n   \n",
       "\n",
       "                                            audio2_path  audio2_label  \\\n",
       "0     /media/ben/datadrive/Zalo/voice-verification/T...         392.0   \n",
       "1     /media/ben/datadrive/Zalo/voice-verification/T...          86.0   \n",
       "2     /media/ben/datadrive/Zalo/voice-verification/T...          35.0   \n",
       "3     /media/ben/datadrive/Zalo/voice-verification/T...          47.0   \n",
       "4     /media/ben/datadrive/Zalo/voice-verification/T...         223.0   \n",
       "...                                                 ...           ...   \n",
       "8528  /media/ben/datadrive/Zalo/voice-verification/T...         216.0   \n",
       "8529  /media/ben/datadrive/Zalo/voice-verification/T...         216.0   \n",
       "8530  /media/ben/datadrive/Zalo/voice-verification/T...         216.0   \n",
       "8531  /media/ben/datadrive/Zalo/voice-verification/T...         216.0   \n",
       "8532  /media/ben/datadrive/Zalo/voice-verification/T...         216.0   \n",
       "\n",
       "           audio2_uri  y_comparison  \n",
       "0        81-F-31_81-4         False  \n",
       "1     444-F-27_444-25         False  \n",
       "2       70-M-38_70-12         False  \n",
       "3     646-M-31_646-11         False  \n",
       "4     428-M-25_428-18         False  \n",
       "...               ...           ...  \n",
       "8528  642-F-32_642-17          True  \n",
       "8529  642-F-32_642-11          True  \n",
       "8530  642-F-32_642-17          True  \n",
       "8531  642-F-32_642-12          True  \n",
       "8532   642-F-32_642-8          True  \n",
       "\n",
       "[8533 rows x 11 columns]"
      ]
     },
     "execution_count": 8,
     "metadata": {},
     "output_type": "execute_result"
    }
   ],
   "source": [
    "df_train[\"path\"]"
   ]
  },
  {
   "cell_type": "code",
   "execution_count": 4,
   "metadata": {},
   "outputs": [],
   "source": [
    "df_train.to_csv(\"df_train.csv\")\n",
    "df_val.to_csv(\"df_val.csv\")\n",
    "df_test.to_csv(\"df_test.csv\")"
   ]
  },
  {
   "cell_type": "markdown",
   "metadata": {},
   "source": [
    "# Prepare pyannote specific files for train/dev/test"
   ]
  },
  {
   "cell_type": "code",
   "execution_count": 6,
   "metadata": {},
   "outputs": [
    {
     "name": "stderr",
     "output_type": "stream",
     "text": [
      "/home/ben/anaconda3/envs/pyannote/lib/python3.7/site-packages/ipykernel_launcher.py:16: SettingWithCopyWarning: \n",
      "A value is trying to be set on a copy of a slice from a DataFrame.\n",
      "Try using .loc[row_indexer,col_indexer] = value instead\n",
      "\n",
      "See the caveats in the documentation: https://pandas.pydata.org/pandas-docs/stable/user_guide/indexing.html#returning-a-view-versus-a-copy\n",
      "  app.launch_new_instance()\n",
      "/home/ben/anaconda3/envs/pyannote/lib/python3.7/site-packages/ipykernel_launcher.py:17: SettingWithCopyWarning: \n",
      "A value is trying to be set on a copy of a slice from a DataFrame.\n",
      "Try using .loc[row_indexer,col_indexer] = value instead\n",
      "\n",
      "See the caveats in the documentation: https://pandas.pydata.org/pandas-docs/stable/user_guide/indexing.html#returning-a-view-versus-a-copy\n",
      "/home/ben/anaconda3/envs/pyannote/lib/python3.7/site-packages/ipykernel_launcher.py:35: SettingWithCopyWarning: \n",
      "A value is trying to be set on a copy of a slice from a DataFrame.\n",
      "Try using .loc[row_indexer,col_indexer] = value instead\n",
      "\n",
      "See the caveats in the documentation: https://pandas.pydata.org/pandas-docs/stable/user_guide/indexing.html#returning-a-view-versus-a-copy\n",
      "/home/ben/anaconda3/envs/pyannote/lib/python3.7/site-packages/ipykernel_launcher.py:36: SettingWithCopyWarning: \n",
      "A value is trying to be set on a copy of a slice from a DataFrame.\n",
      "Try using .loc[row_indexer,col_indexer] = value instead\n",
      "\n",
      "See the caveats in the documentation: https://pandas.pydata.org/pandas-docs/stable/user_guide/indexing.html#returning-a-view-versus-a-copy\n",
      "/home/ben/anaconda3/envs/pyannote/lib/python3.7/site-packages/ipykernel_launcher.py:54: SettingWithCopyWarning: \n",
      "A value is trying to be set on a copy of a slice from a DataFrame.\n",
      "Try using .loc[row_indexer,col_indexer] = value instead\n",
      "\n",
      "See the caveats in the documentation: https://pandas.pydata.org/pandas-docs/stable/user_guide/indexing.html#returning-a-view-versus-a-copy\n",
      "/home/ben/anaconda3/envs/pyannote/lib/python3.7/site-packages/ipykernel_launcher.py:55: SettingWithCopyWarning: \n",
      "A value is trying to be set on a copy of a slice from a DataFrame.\n",
      "Try using .loc[row_indexer,col_indexer] = value instead\n",
      "\n",
      "See the caveats in the documentation: https://pandas.pydata.org/pandas-docs/stable/user_guide/indexing.html#returning-a-view-versus-a-copy\n"
     ]
    }
   ],
   "source": [
    "def uri_gen(row):\n",
    "    return row[\"speaker_id\"] + \"/\" + row['filenames'].split(\".\")[0]\n",
    "\n",
    "def create_rrtm_row(row):\n",
    "    duration = librosa.get_duration(filename=row[\"path\"])\n",
    "    uri_filename = uri_gen(row)\n",
    "    row = f\"SPEAKER {uri_filename} 1 {0} {duration} <NA> <NA> {row['speaker_id']} <NA> <NA>\\n\" \n",
    "    return row\n",
    "\n",
    "def create_uem_row(row):\n",
    "    duration = librosa.get_duration(filename=row[\"path\"])\n",
    "    uri_filename = uri_gen(row)\n",
    "    row = f\"{uri_filename} NA 0.000 {duration}\\n\"\n",
    "    return row\n",
    "\n",
    "df_train[\"rttm\"] = df_train.apply(create_rrtm_row, axis=1)\n",
    "df_train[\"uem\"] = df_train.apply(create_uem_row, axis=1)\n",
    "with open(root_path.joinpath(Path(\"pyannote_db_files/ZALODATASET/train.rttm\")), \"w\") as filehandle:\n",
    "    for row in df_train[\"rttm\"].values:\n",
    "        filehandle.write(row)\n",
    "with open(root_path.joinpath(Path(\"pyannote_db_files/ZALODATASET/train.uem\")), \"w\") as filehandle:\n",
    "    for row in df_train[\"uem\"].values:\n",
    "        filehandle.write(row)\n",
    "with open(root_path.joinpath(Path(\"pyannote_db_files/ZALODATASET/train.lst\")), \"w\") as filehandle:\n",
    "    for _, row in df_train.iterrows():\n",
    "        row = uri_gen(row) + \"\\n\"\n",
    "        filehandle.write(row)\n",
    "with open(root_path.joinpath(Path(\"pyannote_db_files/ZALODATASET/train.trial\")), \"w\") as filehandle:\n",
    "    for index, row in df_train.iterrows():\n",
    "        audio1 = row[\"speaker_id\"] + \"/\" + row['filenames'].split(\".\")[0]\n",
    "        audio2 = row[\"audio2_path\"].parents[0].stem + \"/\" + row[\"audio2_path\"].stem\n",
    "        row = f\"{int(row['y_comparison'])} {audio1} {audio2}\\n\"\n",
    "        filehandle.write(row)\n",
    "        \n",
    "df_val[\"rttm\"] = df_val.apply(create_rrtm_row, axis=1)\n",
    "df_val[\"uem\"] = df_val.apply(create_uem_row, axis=1)\n",
    "with open(root_path.joinpath(Path(\"pyannote_db_files/ZALODATASET/development.rttm\")), \"w\") as filehandle:\n",
    "    for row in df_val[\"rttm\"].values:\n",
    "        filehandle.write(row)\n",
    "with open(root_path.joinpath(Path(\"pyannote_db_files/ZALODATASET/development.uem\")), \"w\") as filehandle:\n",
    "    for row in df_val[\"uem\"].values:\n",
    "        filehandle.write(row)\n",
    "with open(root_path.joinpath(Path(\"pyannote_db_files/ZALODATASET/development.lst\")), \"w\") as filehandle:\n",
    "    for _, row in df_val.iterrows():\n",
    "        row = uri_gen(row) + \"\\n\"\n",
    "        filehandle.write(row)\n",
    "with open(root_path.joinpath(Path(\"pyannote_db_files/ZALODATASET/development.trial\")), \"w\") as filehandle:\n",
    "    for index, row in df_val.iterrows():\n",
    "        audio1 = row[\"speaker_id\"] + \"/\" + row['filenames'].split(\".\")[0]\n",
    "        audio2 = row[\"audio2_path\"].parents[0].stem + \"/\" + row[\"audio2_path\"].stem\n",
    "        row = f\"{int(row['y_comparison'])} {audio1} {audio2}\\n\"\n",
    "        filehandle.write(row)\n",
    "    \n",
    "df_test[\"rttm\"] = df_test.apply(create_rrtm_row, axis=1)\n",
    "df_test[\"uem\"] = df_test.apply(create_uem_row, axis=1)\n",
    "with open(root_path.joinpath(Path(\"pyannote_db_files/ZALODATASET/test.rttm\")), \"w\") as filehandle:\n",
    "    for row in df_test[\"rttm\"].values:\n",
    "        filehandle.write(row)  \n",
    "with open(root_path.joinpath(Path(\"pyannote_db_files/ZALODATASET/test.uem\")), \"w\") as filehandle:\n",
    "    for row in df_val[\"uem\"].values:\n",
    "        filehandle.write(row)\n",
    "with open(root_path.joinpath(Path(\"pyannote_db_files/ZALODATASET/test.lst\")), \"w\") as filehandle:\n",
    "    for _, row in df_test.iterrows():\n",
    "        row = uri_gen(row) + \"\\n\"\n",
    "        filehandle.write(row)\n",
    "with open(root_path.joinpath(Path(\"pyannote_db_files/ZALODATASET/test.trial\")), \"w\") as filehandle:\n",
    "    for index, row in df_test.iterrows():\n",
    "        audio1 = row[\"speaker_id\"] + \"/\" + row['filenames'].split(\".\")[0]\n",
    "        audio2 = row[\"audio2_path\"].parents[0].stem + \"/\" + row[\"audio2_path\"].stem\n",
    "        row = f\"{int(row['y_comparison'])} {audio1} {audio2}\\n\"\n",
    "        filehandle.write(row)\n",
    "\n",
    "    "
   ]
  },
  {
   "cell_type": "markdown",
   "metadata": {},
   "source": [
    "# Load train/dev/test"
   ]
  },
  {
   "cell_type": "code",
   "execution_count": 6,
   "metadata": {},
   "outputs": [],
   "source": [
    "df_train = pd.read_csv(\"df_train.csv\")"
   ]
  },
  {
   "cell_type": "code",
   "execution_count": 17,
   "metadata": {},
   "outputs": [
    {
     "data": {
      "text/plain": [
       "<AxesSubplot:>"
      ]
     },
     "execution_count": 17,
     "metadata": {},
     "output_type": "execute_result"
    },
    {
     "data": {
      "image/png": "[encoded data removed]",
      "text/plain": [
       "<Figure size 432x288 with 1 Axes>"
      ]
     },
     "metadata": {
      "needs_background": "light"
     },
     "output_type": "display_data"
    }
   ],
   "source": [
    "df_train[df_train[\"duration\"] < 5][\"duration\"].hist(bins=100)\n",
    "# Duration distribution (ignoring long duration)"
   ]
  },
  {
   "cell_type": "code",
   "execution_count": 23,
   "metadata": {},
   "outputs": [
    {
     "data": {
      "text/plain": [
       "<AxesSubplot:>"
      ]
     },
     "execution_count": 23,
     "metadata": {},
     "output_type": "execute_result"
    },
    {
     "data": {
      "image/png": "[encoded data removed]",
      "text/plain": [
       "<Figure size 432x288 with 1 Axes>"
      ]
     },
     "metadata": {
      "needs_background": "light"
     },
     "output_type": "display_data"
    }
   ],
   "source": [
    "df_train.groupby(\"y_true\")[\"duration\"].sum().hist(bins=100)\n",
    "# total length of audio by speaker"
   ]
  },
  {
   "cell_type": "markdown",
   "metadata": {},
   "source": [
    "# Load existing embeddings"
   ]
  },
  {
   "cell_type": "code",
   "execution_count": 4,
   "metadata": {},
   "outputs": [
    {
     "ename": "FileNotFoundError",
     "evalue": "[Errno 2] No such file or directory: 'embeddings_voxceleb_20epochfinetuned.npy'",
     "output_type": "error",
     "traceback": [
      "\u001b[0;31m---------------------------------------------------------------------------\u001b[0m",
      "\u001b[0;31mFileNotFoundError\u001b[0m                         Traceback (most recent call last)",
      "\u001b[0;32m<ipython-input-4-64c5d8b37712>\u001b[0m in \u001b[0;36m<module>\u001b[0;34m\u001b[0m\n\u001b[0;32m----> 1\u001b[0;31m \u001b[0mXemb\u001b[0m \u001b[0;34m=\u001b[0m \u001b[0mnp\u001b[0m\u001b[0;34m.\u001b[0m\u001b[0mload\u001b[0m\u001b[0;34m(\u001b[0m\u001b[0;34m'embeddings_voxceleb_20epochfinetuned.npy'\u001b[0m\u001b[0;34m)\u001b[0m\u001b[0;34m\u001b[0m\u001b[0;34m\u001b[0m\u001b[0m\n\u001b[0m\u001b[1;32m      2\u001b[0m \u001b[0mspeaker_ids\u001b[0m \u001b[0;34m=\u001b[0m \u001b[0mnp\u001b[0m\u001b[0;34m.\u001b[0m\u001b[0mload\u001b[0m\u001b[0;34m(\u001b[0m\u001b[0;34m\"speaker_ids.npy\"\u001b[0m\u001b[0;34m)\u001b[0m\u001b[0;34m\u001b[0m\u001b[0;34m\u001b[0m\u001b[0m\n\u001b[1;32m      3\u001b[0m \u001b[0muris\u001b[0m \u001b[0;34m=\u001b[0m \u001b[0mnp\u001b[0m\u001b[0;34m.\u001b[0m\u001b[0mload\u001b[0m\u001b[0;34m(\u001b[0m\u001b[0;34m\"uris.npy\"\u001b[0m\u001b[0;34m)\u001b[0m\u001b[0;34m\u001b[0m\u001b[0;34m\u001b[0m\u001b[0m\n\u001b[1;32m      4\u001b[0m \u001b[0m_\u001b[0m\u001b[0;34m,\u001b[0m \u001b[0my_true\u001b[0m \u001b[0;34m=\u001b[0m \u001b[0mnp\u001b[0m\u001b[0;34m.\u001b[0m\u001b[0munique\u001b[0m\u001b[0;34m(\u001b[0m\u001b[0mspeaker_ids\u001b[0m\u001b[0;34m,\u001b[0m \u001b[0mreturn_inverse\u001b[0m\u001b[0;34m=\u001b[0m\u001b[0;32mTrue\u001b[0m\u001b[0;34m)\u001b[0m\u001b[0;34m\u001b[0m\u001b[0;34m\u001b[0m\u001b[0m\n\u001b[1;32m      5\u001b[0m \u001b[0;31m#df_data = pd.DataFrame({\"speaker_ids\": speaker_ids, \"y_true\": y_true, \"uris\": uris})\u001b[0m\u001b[0;34m\u001b[0m\u001b[0;34m\u001b[0m\u001b[0;34m\u001b[0m\u001b[0m\n",
      "\u001b[0;32m~/anaconda3/envs/pyannote/lib/python3.7/site-packages/numpy/lib/npyio.py\u001b[0m in \u001b[0;36mload\u001b[0;34m(file, mmap_mode, allow_pickle, fix_imports, encoding)\u001b[0m\n\u001b[1;32m    414\u001b[0m             \u001b[0mown_fid\u001b[0m \u001b[0;34m=\u001b[0m \u001b[0;32mFalse\u001b[0m\u001b[0;34m\u001b[0m\u001b[0;34m\u001b[0m\u001b[0m\n\u001b[1;32m    415\u001b[0m         \u001b[0;32melse\u001b[0m\u001b[0;34m:\u001b[0m\u001b[0;34m\u001b[0m\u001b[0;34m\u001b[0m\u001b[0m\n\u001b[0;32m--> 416\u001b[0;31m             \u001b[0mfid\u001b[0m \u001b[0;34m=\u001b[0m \u001b[0mstack\u001b[0m\u001b[0;34m.\u001b[0m\u001b[0menter_context\u001b[0m\u001b[0;34m(\u001b[0m\u001b[0mopen\u001b[0m\u001b[0;34m(\u001b[0m\u001b[0mos_fspath\u001b[0m\u001b[0;34m(\u001b[0m\u001b[0mfile\u001b[0m\u001b[0;34m)\u001b[0m\u001b[0;34m,\u001b[0m \u001b[0;34m\"rb\"\u001b[0m\u001b[0;34m)\u001b[0m\u001b[0;34m)\u001b[0m\u001b[0;34m\u001b[0m\u001b[0;34m\u001b[0m\u001b[0m\n\u001b[0m\u001b[1;32m    417\u001b[0m             \u001b[0mown_fid\u001b[0m \u001b[0;34m=\u001b[0m \u001b[0;32mTrue\u001b[0m\u001b[0;34m\u001b[0m\u001b[0;34m\u001b[0m\u001b[0m\n\u001b[1;32m    418\u001b[0m \u001b[0;34m\u001b[0m\u001b[0m\n",
      "\u001b[0;31mFileNotFoundError\u001b[0m: [Errno 2] No such file or directory: 'embeddings_voxceleb_20epochfinetuned.npy'"
     ]
    }
   ],
   "source": [
    "Xemb = np.load('embeddings_voxceleb_20epochfinetuned.npy')\n",
    "speaker_ids = np.load(\"speaker_ids.npy\")\n",
    "uris = np.load(\"uris.npy\")\n",
    "_, y_true = np.unique(speaker_ids, return_inverse=True)\n",
    "#df_data = pd.DataFrame({\"speaker_ids\": speaker_ids, \"y_true\": y_true, \"uris\": uris})\n",
    "#df_data\n",
    "#Xemb[np.where(uris == \"747-F-31_747-10\")].shape\n",
    "def get_emb_with_uri(uri):\n",
    "    return Xemb[np.where(uris == uri)]\n"
   ]
  },
  {
   "cell_type": "code",
   "execution_count": null,
   "metadata": {},
   "outputs": [],
   "source": [
    "def populate_df_distance_field(row):\n",
    "    audio1 = get_emb_with_uri(row[\"uri\"])\n",
    "    audio2 = get_emb_with_uri(row[\"audio2_uri\"])\n",
    "    distance = cdist(audio1, audio2, metric=\"cosine\")\n",
    "    return distance[0][0]\n",
    "\n",
    "def get_dist_then_accuracy(df):\n",
    "    df.loc[:, \"dist\"] = df.apply(populate_df_distance_field, axis=1)\n",
    "    fpr, tpr, thresholds = roc_curve(df[\"y_comparison\"], df[\"dist\"])\n",
    "    accuracy_scores = []\n",
    "    for thresh in thresholds:\n",
    "        accuracy_scores.append(accuracy_score(df[\"y_comparison\"], \n",
    "                                             [1 if dist < thresh else 0 for dist in df[\"dist\"].values]))\n",
    "\n",
    "    accuracies = np.array(accuracy_scores)\n",
    "    max_accuracy = accuracies.max() \n",
    "    max_accuracy_threshold =  thresholds[accuracies.argmax()]\n",
    "    return accuracies, max_accuracy, max_accuracy_threshold\n",
    "\n",
    "accuracies, max_accuracy, max_accuracy_threshold = get_dist_then_accuracy(df_val)\n",
    "pd.DataFrame(accuracies).hist(bins=100)"
   ]
  },
  {
   "cell_type": "code",
   "execution_count": 34,
   "metadata": {},
   "outputs": [
    {
     "data": {
      "text/plain": [
       "(0.908080808080808, 0.7003636259184187)"
      ]
     },
     "execution_count": 34,
     "metadata": {},
     "output_type": "execute_result"
    }
   ],
   "source": [
    "# AMI pretrained 0.79 accuracy, 0.60877695242878 best threshold\n",
    "# Voxceleb pretrained 0.8645 accuracy, 0.567065120412566 best threshold\n",
    "# After 20 epochs --> (0.9285128325325208, 0.7331345786833539) but thats including data leakage as its on the data it was trained on.\n",
    "max_accuracy, max_accuracy_threshold\n"
   ]
  },
  {
   "cell_type": "markdown",
   "metadata": {},
   "source": [
    "# Choose a threshold that gives best balance between + and -"
   ]
  },
  {
   "cell_type": "code",
   "execution_count": 39,
   "metadata": {},
   "outputs": [
    {
     "data": {
      "text/plain": [
       "metric       0.000703\n",
       "threshold    0.792000\n",
       "ratio        0.999297\n",
       "Name: 791, dtype: float64"
      ]
     },
     "execution_count": 39,
     "metadata": {},
     "output_type": "execute_result"
    }
   ],
   "source": [
    "def get_optimal_balanced_threshold(df):\n",
    "    rows = []\n",
    "    for i in np.arange(0, 1, 0.001):\n",
    "        result = (df[\"dist\"] < i).value_counts()\n",
    "        if len(result) == 1:\n",
    "            # If only True or False then its a bad threshold and move on\n",
    "            continue\n",
    "        ratio = result.loc[True] / result.loc[False] \n",
    "        minimise_metric = abs((ratio) -1)\n",
    "        rows.append({\"metric\": minimise_metric, \"threshold\":i, \"ratio\": ratio})\n",
    "    _ = pd.DataFrame(rows)\n",
    "    return _.sort_values(\"metric\").iloc[0]\n",
    "get_optimal_balanced_threshold(df_train)"
   ]
  },
  {
   "cell_type": "markdown",
   "metadata": {},
   "source": [
    "# Below is experimental scratch work"
   ]
  },
  {
   "cell_type": "code",
   "execution_count": 21,
   "metadata": {},
   "outputs": [
    {
     "data": {
      "text/plain": [
       "(0       0.992396\n",
       " 1       1.478042\n",
       " 2       0.823479\n",
       " 3       6.249979\n",
       " 4       1.076854\n",
       "           ...   \n",
       " 8528    1.436937\n",
       " 8529    1.321979\n",
       " 8530    2.557729\n",
       " 8531    5.431604\n",
       " 8532    0.689729\n",
       " Name: duration, Length: 8533, dtype: float64,\n",
       " 0        2.198917\n",
       " 1        2.744687\n",
       " 2        1.655083\n",
       " 3        1.593667\n",
       " 4       13.368021\n",
       "           ...    \n",
       " 8528     1.580625\n",
       " 8529     1.321979\n",
       " 8530     1.580625\n",
       " 8531     6.437458\n",
       " 8532     2.931333\n",
       " Name: audio2_duration, Length: 8533, dtype: float64,\n",
       " 0       False\n",
       " 1       False\n",
       " 2       False\n",
       " 3       False\n",
       " 4       False\n",
       "         ...  \n",
       " 8528     True\n",
       " 8529     True\n",
       " 8530     True\n",
       " 8531     True\n",
       " 8532     True\n",
       " Name: y_comparison, Length: 8533, dtype: bool)"
      ]
     },
     "execution_count": 21,
     "metadata": {},
     "output_type": "execute_result"
    }
   ],
   "source": [
    "df_train[\"duration\"], df_train[\"audio2_duration\"], df_train[\"y_comparison\"]"
   ]
  },
  {
   "cell_type": "code",
   "execution_count": 27,
   "metadata": {},
   "outputs": [
    {
     "name": "stderr",
     "output_type": "stream",
     "text": [
      "/home/ben/anaconda3/envs/pyannote/lib/python3.7/site-packages/ipykernel_launcher.py:3: SettingWithCopyWarning: \n",
      "A value is trying to be set on a copy of a slice from a DataFrame.\n",
      "Try using .loc[row_indexer,col_indexer] = value instead\n",
      "\n",
      "See the caveats in the documentation: https://pandas.pydata.org/pandas-docs/stable/user_guide/indexing.html#returning-a-view-versus-a-copy\n",
      "  This is separate from the ipykernel package so we can avoid doing imports until\n"
     ]
    },
    {
     "data": {
      "text/plain": [
       "<AxesSubplot:>"
      ]
     },
     "execution_count": 27,
     "metadata": {},
     "output_type": "execute_result"
    },
    {
     "data": {
      "image/png": "[encoded data removed]",
      "text/plain": [
       "<Figure size 432x288 with 1 Axes>"
      ]
     },
     "metadata": {
      "needs_background": "light"
     },
     "output_type": "display_data"
    }
   ],
   "source": [
    "match = df_train[\"y_comparison\"] == True\n",
    "nonmatch = df_train[\"y_comparison\"] == False\n",
    "df_train[\"duration_dif\"] = abs(df_train[\"duration\"] - df_train[\"audio2_duration\"]) \n",
    "df_train[match][\"duration_dif\"].hist(bins=100)"
   ]
  },
  {
   "cell_type": "code",
   "execution_count": 29,
   "metadata": {},
   "outputs": [
    {
     "data": {
      "text/plain": [
       "<AxesSubplot:>"
      ]
     },
     "execution_count": 29,
     "metadata": {},
     "output_type": "execute_result"
    },
    {
     "data": {
      "image/png": "[encoded data removed]",
      "text/plain": [
       "<Figure size 432x288 with 1 Axes>"
      ]
     },
     "metadata": {
      "needs_background": "light"
     },
     "output_type": "display_data"
    }
   ],
   "source": [
    "df_train[nonmatch][\"duration_dif\"].hist(bins=100)"
   ]
  },
  {
   "cell_type": "code",
   "execution_count": 31,
   "metadata": {},
   "outputs": [
    {
     "data": {
      "text/plain": [
       "60.798874999999995"
      ]
     },
     "execution_count": 31,
     "metadata": {},
     "output_type": "execute_result"
    }
   ],
   "source": [
    "df_train[nonmatch][\"duration_dif\"].max()"
   ]
  },
  {
   "cell_type": "code",
   "execution_count": 33,
   "metadata": {},
   "outputs": [
    {
     "data": {
      "text/plain": [
       "26.494013605442177"
      ]
     },
     "execution_count": 33,
     "metadata": {},
     "output_type": "execute_result"
    }
   ],
   "source": [
    "df_train[match][\"duration_dif\"].max()"
   ]
  },
  {
   "cell_type": "code",
   "execution_count": 43,
   "metadata": {},
   "outputs": [
    {
     "name": "stderr",
     "output_type": "stream",
     "text": [
      "/home/ben/anaconda3/envs/pyannote/lib/python3.7/site-packages/ipykernel_launcher.py:1: SettingWithCopyWarning: \n",
      "A value is trying to be set on a copy of a slice from a DataFrame.\n",
      "Try using .loc[row_indexer,col_indexer] = value instead\n",
      "\n",
      "See the caveats in the documentation: https://pandas.pydata.org/pandas-docs/stable/user_guide/indexing.html#returning-a-view-versus-a-copy\n",
      "  \"\"\"Entry point for launching an IPython kernel.\n"
     ]
    },
    {
     "data": {
      "text/html": [
       "<div>\n",
       "<style scoped>\n",
       "    .dataframe tbody tr th:only-of-type {\n",
       "        vertical-align: middle;\n",
       "    }\n",
       "\n",
       "    .dataframe tbody tr th {\n",
       "        vertical-align: top;\n",
       "    }\n",
       "\n",
       "    .dataframe thead th {\n",
       "        text-align: right;\n",
       "    }\n",
       "</style>\n",
       "<table border=\"1\" class=\"dataframe\">\n",
       "  <thead>\n",
       "    <tr style=\"text-align: right;\">\n",
       "      <th></th>\n",
       "      <th>filenames</th>\n",
       "      <th>speaker_id</th>\n",
       "      <th>uri</th>\n",
       "      <th>path</th>\n",
       "      <th>y_true</th>\n",
       "      <th>audio2_path</th>\n",
       "      <th>audio2_label</th>\n",
       "      <th>audio2_uri</th>\n",
       "      <th>y_comparison</th>\n",
       "      <th>duration</th>\n",
       "      <th>audio2_duration</th>\n",
       "      <th>duration_dif</th>\n",
       "    </tr>\n",
       "  </thead>\n",
       "  <tbody>\n",
       "  </tbody>\n",
       "</table>\n",
       "</div>"
      ],
      "text/plain": [
       "Empty DataFrame\n",
       "Columns: [filenames, speaker_id, uri, path, y_true, audio2_path, audio2_label, audio2_uri, y_comparison, duration, audio2_duration, duration_dif]\n",
       "Index: []"
      ]
     },
     "execution_count": 43,
     "metadata": {},
     "output_type": "execute_result"
    }
   ],
   "source": [
    "df_val[\"duration_dif\"] = abs(df_val[\"duration\"] - df_val[\"audio2_duration\"]) \n",
    "df_val[df_val[\"duration_dif\"] > 20]"
   ]
  }
 ],
 "metadata": {
  "kernelspec": {
   "display_name": "pyannote",
   "language": "python",
   "name": "pyannote"
  },
  "language_info": {
   "codemirror_mode": {
    "name": "ipython",
    "version": 3
   },
   "file_extension": ".py",
   "mimetype": "text/x-python",
   "name": "python",
   "nbconvert_exporter": "python",
   "pygments_lexer": "ipython3",
   "version": "3.7.9"
  }
 },
 "nbformat": 4,
 "nbformat_minor": 4
}
