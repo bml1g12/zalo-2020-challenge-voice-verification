{
 "cells": [
  {
   "cell_type": "code",
   "execution_count": 1,
   "metadata": {},
   "outputs": [
    {
     "name": "stdout",
     "output_type": "stream",
     "text": [
      "/media/ben/datadrive/Software/pyannote-audio/data/ami/tmp2/config.yml\n",
      "CONFIG {'duration': 4.0, 'label_min_duration': 30, 'margin': 0.05, 'min_duration': 1.0, 'per_fold': 128, 'per_label': 1, 'per_turn': 1, 's': 10}\n",
      "Loading weight /media/ben/datadrive/Software/pyannote-audio/data/ami/tmp2/train/ZALODATASET.SpeakerVerification.MixHeadset.train/weights/0001.pt\n"
     ]
    },
    {
     "name": "stderr",
     "output_type": "stream",
     "text": [
      "/media/ben/datadrive/Software/pyannote-audio/pyannote/audio/embedding/approaches/arcface_loss.py:170: FutureWarning: The 's' parameter is deprecated in favor of 'scale', and will be removed in a future release\n",
      "  warnings.warn(msg, FutureWarning)\n",
      "10556it [18:57,  9.28it/s]\n"
     ]
    }
   ],
   "source": [
    "from pathlib import Path\n",
    "import pandas as pd\n",
    "import numpy as np\n",
    "from sklearn.model_selection import train_test_split\n",
    "from pyannote.audio.features import Pretrained\n",
    "from pyannote.core.utils.distance import l2_normalize\n",
    "from pyannote.core.utils.distance import cdist\n",
    "from tqdm import tqdm\n",
    "\n",
    "import librosa\n",
    "\n",
    "!export PYANNOTE_DATABASE_CONFIG=/media/ben/datadrive/Software/pyannote-audio/data/ami/\n",
    "\n",
    "emb = Pretrained(validate_dir='/media/ben/datadrive/Software/pyannote-audio/data/ami/tmp2/train/ZALODATASET.SpeakerVerification.MixHeadset.train/validate_equal_error_rate/ZALODATASET.SpeakerVerification.MixHeadset.val/', \n",
    "                 epoch=1)\n",
    "\n",
    "speaker_ids = []\n",
    "uris = []\n",
    "embeddings = []\n",
    "root = Path(\"/media/ben/datadrive/Zalo/voice-verification/Train-Test-Data/dataset/\")\n",
    "j = 0\n",
    "for i in tqdm(root.glob(\"./*/*.wav\")):\n",
    "    speaker_id = str(i.parents[0].name)\n",
    "    uri = str(speaker_id) + \"_\" + str(i.stem)\n",
    "    embedding = np.mean(emb({\"uri\": uri, \"audio\": str(i)}), axis=0, keepdims=True)[0]\n",
    "    speaker_ids.append(speaker_id)\n",
    "    uris.append(uri)\n",
    "    embeddings.append(embedding)\n",
    "    \n",
    "X = np.array(embeddings)\n",
    "_, y_true = np.unique(speaker_ids, return_inverse=True)\n",
    "\n",
    "with open('embeddings_voxceleb_1epochfinetuned.npy', 'wb') as f:\n",
    "    np.save(f, X)"
   ]
  }
 ],
 "metadata": {
  "kernelspec": {
   "display_name": "pyannote",
   "language": "python",
   "name": "pyannote"
  },
  "language_info": {
   "codemirror_mode": {
    "name": "ipython",
    "version": 3
   },
   "file_extension": ".py",
   "mimetype": "text/x-python",
   "name": "python",
   "nbconvert_exporter": "python",
   "pygments_lexer": "ipython3",
   "version": "3.7.9"
  }
 },
 "nbformat": 4,
 "nbformat_minor": 4
}
