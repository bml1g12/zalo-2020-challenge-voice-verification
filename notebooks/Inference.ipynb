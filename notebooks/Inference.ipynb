{
 "cells": [
  {
   "cell_type": "code",
   "execution_count": 2,
   "metadata": {},
   "outputs": [
    {
     "ename": "NameError",
     "evalue": "name 'flask' is not defined",
     "output_type": "error",
     "traceback": [
      "\u001b[0;31m---------------------------------------------------------------------------\u001b[0m",
      "\u001b[0;31mNameError\u001b[0m                                 Traceback (most recent call last)",
      "\u001b[0;32m<ipython-input-2-97cf656bab28>\u001b[0m in \u001b[0;36m<module>\u001b[0;34m\u001b[0m\n\u001b[0;32m----> 1\u001b[0;31m \u001b[0mflask\u001b[0m\u001b[0;34m.\u001b[0m\u001b[0mrequest\u001b[0m\u001b[0;34m\u001b[0m\u001b[0;34m\u001b[0m\u001b[0m\n\u001b[0m",
      "\u001b[0;31mNameError\u001b[0m: name 'flask' is not defined"
     ]
    }
   ],
   "source": [
    "flask.request"
   ]
  },
  {
   "cell_type": "code",
   "execution_count": 1,
   "metadata": {},
   "outputs": [
    {
     "name": "stdout",
     "output_type": "stream",
     "text": [
      "Collecting flask\n",
      "  Downloading Flask-1.1.2-py2.py3-none-any.whl (94 kB)\n",
      "\u001b[K     |████████████████████████████████| 94 kB 1.4 MB/s eta 0:00:011\n",
      "\u001b[?25hRequirement already satisfied: Werkzeug>=0.15 in /home/ben/anaconda3/envs/pyannote/lib/python3.7/site-packages (from flask) (1.0.1)\n",
      "Requirement already satisfied: Jinja2>=2.10.1 in /home/ben/anaconda3/envs/pyannote/lib/python3.7/site-packages (from flask) (2.11.2)\n",
      "Requirement already satisfied: click>=5.1 in /home/ben/anaconda3/envs/pyannote/lib/python3.7/site-packages (from flask) (7.1.2)\n",
      "Collecting itsdangerous>=0.24\n",
      "  Downloading itsdangerous-1.1.0-py2.py3-none-any.whl (16 kB)\n",
      "Requirement already satisfied: MarkupSafe>=0.23 in /home/ben/anaconda3/envs/pyannote/lib/python3.7/site-packages (from Jinja2>=2.10.1->flask) (1.1.1)\n",
      "Installing collected packages: itsdangerous, flask\n",
      "Successfully installed flask-1.1.2 itsdangerous-1.1.0\n",
      "Collecting flask-restful\n",
      "  Downloading Flask_RESTful-0.3.8-py2.py3-none-any.whl (25 kB)\n",
      "Collecting aniso8601>=0.82\n",
      "  Downloading aniso8601-8.0.0-py2.py3-none-any.whl (43 kB)\n",
      "\u001b[K     |████████████████████████████████| 43 kB 1.6 MB/s eta 0:00:011\n",
      "\u001b[?25hRequirement already satisfied: pytz in /home/ben/anaconda3/envs/pyannote/lib/python3.7/site-packages (from flask-restful) (2020.4)\n",
      "Requirement already satisfied: six>=1.3.0 in /home/ben/anaconda3/envs/pyannote/lib/python3.7/site-packages (from flask-restful) (1.15.0)\n",
      "Requirement already satisfied: Flask>=0.8 in /home/ben/anaconda3/envs/pyannote/lib/python3.7/site-packages (from flask-restful) (1.1.2)\n",
      "Requirement already satisfied: Werkzeug>=0.15 in /home/ben/anaconda3/envs/pyannote/lib/python3.7/site-packages (from Flask>=0.8->flask-restful) (1.0.1)\n",
      "Requirement already satisfied: click>=5.1 in /home/ben/anaconda3/envs/pyannote/lib/python3.7/site-packages (from Flask>=0.8->flask-restful) (7.1.2)\n",
      "Requirement already satisfied: itsdangerous>=0.24 in /home/ben/anaconda3/envs/pyannote/lib/python3.7/site-packages (from Flask>=0.8->flask-restful) (1.1.0)\n",
      "Requirement already satisfied: Jinja2>=2.10.1 in /home/ben/anaconda3/envs/pyannote/lib/python3.7/site-packages (from Flask>=0.8->flask-restful) (2.11.2)\n",
      "Requirement already satisfied: MarkupSafe>=0.23 in /home/ben/anaconda3/envs/pyannote/lib/python3.7/site-packages (from Jinja2>=2.10.1->Flask>=0.8->flask-restful) (1.1.1)\n",
      "Installing collected packages: aniso8601, flask-restful\n",
      "Successfully installed aniso8601-8.0.0 flask-restful-0.3.8\n"
     ]
    }
   ],
   "source": [
    "from flask import Flask, request, jsonify\n",
    "import json\n",
    "import os \n",
    "from werkzeug.utils import secure_filename\n",
    "\n",
    "AUDIO_STORAGE = os.path.join(os.path.dirname(os.path.abspath(__file__)), \"audio_storage\")\n",
    "if not os.path.isdir(AUDIO_STORAGE):\n",
    "    os.makedirs(AUDIO_STORAGE)\n",
    "\n",
    "# Flask\n",
    "app = Flask(__name__)\n",
    "\n",
    "@app.route(\"/api/predict\", methods=['POST'])\n",
    "\n",
    "\n",
    "def api_predict():\n",
    "    \"\"\"\n",
    "    Required params:\n",
    "        audio_1, audio_2\n",
    "    \"\"\"\n",
    "    audio_file_1 = request.files['audio_1'] # Required\n",
    "    audio_file_2 = request.files['audio_2'] # Required\n",
    "    if audio_file_1:\n",
    "        filename_1 = secure_filename(audio_file_1.filename)\n",
    "        audio_file_1.save(os.path.join(AUDIO_STORAGE, filename_1)) # Save audio in audio_storage, path: audio_storage/filename_1\n",
    "\n",
    "    if audio_file_2:\n",
    "        filename_2 = secure_filename(audio_file_2.filename)\n",
    "        audio_file_2.save(os.path.join(AUDIO_STORAGE, filename_2)) # Save audio in audio_storage, path: audio_storage/filename_2\n",
    "    \n",
    "    # Import code here\n",
    "\n",
    "\n",
    "    label = None # Must be 0 or 1\n",
    "\n",
    "    return jsonify(\n",
    "        label = label\n",
    "    )\n",
    "\n",
    "if __name__ == '__main__':\n",
    "    app.run(host='0.0.0.0', port='6677', debug=True)"
   ]
  }
 ],
 "metadata": {
  "kernelspec": {
   "display_name": "pyannote",
   "language": "python",
   "name": "pyannote"
  },
  "language_info": {
   "codemirror_mode": {
    "name": "ipython",
    "version": 3
   },
   "file_extension": ".py",
   "mimetype": "text/x-python",
   "name": "python",
   "nbconvert_exporter": "python",
   "pygments_lexer": "ipython3",
   "version": "3.7.9"
  }
 },
 "nbformat": 4,
 "nbformat_minor": 4
}
