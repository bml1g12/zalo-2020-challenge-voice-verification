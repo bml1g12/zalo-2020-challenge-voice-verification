{
 "cells": [
  {
   "cell_type": "code",
   "execution_count": 13,
   "metadata": {},
   "outputs": [],
   "source": [
    "from pathlib import Path\n",
    "import pandas as pd\n",
    "def make_row(row):\n",
    "    return row[\"speaker_id\"] + \"/\" + row['filenames'].split(\".\")[0] + \".wav\" + \" \" + str(row[\"y_true\"]) + \"\\n\"\n",
    "def make_trials_row(row):\n",
    "    speaker1wav = row[\"speaker_id\"] + \"/\" + row['filenames'].split(\".\")[0] + \".wav\" \n",
    "    speaker2wav = str(Path(_[\"audio2_path\"][0]).parents[0].stem) + \"/\" +  str(Path(_[\"audio2_path\"][0]).stem) + \".wav\"\n",
    "    return str(int(row[\"y_comparison\"])) + \" \" + speaker1wav + \" \" + speaker2wav + \"\\n\"\n",
    "def make_db_file(subset):\n",
    "    df_input = pd.read_csv(f\"notebooks/df_{subset}.csv\")\n",
    "\n",
    "    with open(root_path.joinpath(Path(f\"vgg_db_files/{subset}.txt\")), \"w\") as filehandle:\n",
    "        for i, row in df_input.iterrows():\n",
    "            filehandle.write(make_row(row))\n",
    "\n",
    "    with open(root_path.joinpath(Path(f\"vgg_db_files/{subset}_trials.txt\")), \"w\") as filehandle:\n",
    "        for i, row in df_input.iterrows():\n",
    "            filehandle.write(make_trials_row(row))\n",
    "            \n",
    "            \n",
    "root_path=Path(\"/media/ben/datadrive/Zalo/voice-verification/\")\n",
    "make_db_file(\"train\")\n",
    "make_db_file(\"val\")\n",
    "make_db_file(\"test\")"
   ]
  },
  {
   "cell_type": "code",
   "execution_count": 10,
   "metadata": {},
   "outputs": [
    {
     "data": {
      "text/plain": [
       "'506-24'"
      ]
     },
     "execution_count": 10,
     "metadata": {},
     "output_type": "execute_result"
    }
   ],
   "source": [
    "import pandas as pd\n",
    "from pathlib import Path\n",
    "_ = pd.read_csv(f\"notebooks/df_train.csv\")\n",
    "Path(_[\"audio2_path\"][0]).parents[0].stem\n",
    "Path(_[\"audio2_path\"][0]).stem"
   ]
  },
  {
   "cell_type": "code",
   "execution_count": null,
   "metadata": {},
   "outputs": [],
   "source": []
  }
 ],
 "metadata": {
  "kernelspec": {
   "display_name": "pyannote",
   "language": "python",
   "name": "pyannote"
  },
  "language_info": {
   "codemirror_mode": {
    "name": "ipython",
    "version": 3
   },
   "file_extension": ".py",
   "mimetype": "text/x-python",
   "name": "python",
   "nbconvert_exporter": "python",
   "pygments_lexer": "ipython3",
   "version": "3.7.9"
  }
 },
 "nbformat": 4,
 "nbformat_minor": 4
}
