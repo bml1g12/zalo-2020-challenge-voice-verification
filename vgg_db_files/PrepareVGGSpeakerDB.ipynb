{
 "cells": [
  {
   "cell_type": "code",
   "execution_count": 25,
   "metadata": {},
   "outputs": [],
   "source": [
    "from pathlib import Path\n",
    "import pandas as pd\n",
    "def make_row(row):\n",
    "    return row[\"speaker_id\"] + \"/\" + row['filenames'].split(\".\")[0] + \".wav\" + \" \" + str(row[\"y_true\"]) + \"\\n\"\n",
    "\n",
    "def make_trials_row(row):\n",
    "    speaker1wav = row[\"speaker_id\"] + \"/\" + row['filenames'].split(\".\")[0] + \".wav\" \n",
    "    speaker2wav = str(Path(row[\"audio2_path\"]).parents[0].stem) + \"/\" +  str(Path(row[\"audio2_path\"]).stem) + \".wav\"\n",
    "    return str(int(row[\"y_comparison\"])) + \" \" + speaker1wav + \" \" + speaker2wav + \"\\n\"\n",
    "\n",
    "def make_db_file(subset):\n",
    "    df_input = pd.read_csv(f\"../notebooks/df_{subset}.csv\")\n",
    "\n",
    "    with open(root_path.joinpath(Path(f\"vgg_db_files/{subset}.txt\")), \"w\") as filehandle:\n",
    "        for i, row in df_input.iterrows():\n",
    "            filehandle.write(make_row(row))\n",
    "\n",
    "    with open(root_path.joinpath(Path(f\"vgg_db_files/{subset}_trials.txt\")), \"w\") as filehandle:\n",
    "        for i, row in df_input.iterrows():\n",
    "            filehandle.write(make_trials_row(row))\n",
    "            \n",
    "            \n",
    "root_path=Path(\"/media/ben/datadrive/Zalo/voice-verification/\")\n",
    "make_db_file(\"train\")\n",
    "make_db_file(\"val\")\n",
    "make_db_file(\"test\")"
   ]
  },
  {
   "cell_type": "code",
   "execution_count": 20,
   "metadata": {},
   "outputs": [
    {
     "data": {
      "text/plain": [
       "('71-F-31', '71-25')"
      ]
     },
     "execution_count": 20,
     "metadata": {},
     "output_type": "execute_result"
    }
   ],
   "source": [
    "import pandas as pd\n",
    "from pathlib import Path\n",
    "_ = pd.read_csv(f\"../notebooks/df_val.csv\")\n",
    "Path(_[\"audio2_path\"][14]).parents[0].stem, Path(_[\"audio2_path\"][14]).stem\n"
   ]
  },
  {
   "cell_type": "code",
   "execution_count": 21,
   "metadata": {},
   "outputs": [
    {
     "data": {
      "text/plain": [
       "'71-F-31/71-9'"
      ]
     },
     "execution_count": 21,
     "metadata": {},
     "output_type": "execute_result"
    }
   ],
   "source": [
    " _[\"speaker_id\"].iloc[14] + \"/\" + _['filenames'].iloc[14].split(\".\")[0] "
   ]
  },
  {
   "cell_type": "code",
   "execution_count": 22,
   "metadata": {},
   "outputs": [
    {
     "data": {
      "text/plain": [
       "Unnamed: 0                                                      8547\n",
       "filenames                                                   71-9.wav\n",
       "speaker_id                                                   71-F-31\n",
       "uri                                                     71-F-31_71-9\n",
       "path               /media/ben/datadrive/Zalo/voice-verification/T...\n",
       "y_true                                                           266\n",
       "audio2_path        /media/ben/datadrive/Zalo/voice-verification/T...\n",
       "audio2_label                                                     266\n",
       "audio2_uri                                             71-F-31_71-25\n",
       "y_comparison                                                    True\n",
       "duration                                                     1.42625\n",
       "audio2_duration                                              2.45798\n",
       "Name: 14, dtype: object"
      ]
     },
     "execution_count": 22,
     "metadata": {},
     "output_type": "execute_result"
    }
   ],
   "source": [
    "_.iloc[14]"
   ]
  }
 ],
 "metadata": {
  "kernelspec": {
   "display_name": "pyannote",
   "language": "python",
   "name": "pyannote"
  },
  "language_info": {
   "codemirror_mode": {
    "name": "ipython",
    "version": 3
   },
   "file_extension": ".py",
   "mimetype": "text/x-python",
   "name": "python",
   "nbconvert_exporter": "python",
   "pygments_lexer": "ipython3",
   "version": "3.7.9"
  }
 },
 "nbformat": 4,
 "nbformat_minor": 4
}
