{
 "cells": [
  {
   "cell_type": "code",
   "execution_count": 6,
   "metadata": {},
   "outputs": [],
   "source": [
    "from tqdm import tqdm\n",
    "import torch\n",
    "from pathlib import Path\n",
    "import numpy as np\n",
    "from tqdm import tqdm\n",
    "import pandas as pd\n",
    "\n",
    "from pyannote.core.utils.distance import l2_normalize\n",
    "from pyannote.core.utils.distance import cdist\n"
   ]
  },
  {
   "cell_type": "code",
   "execution_count": 7,
   "metadata": {},
   "outputs": [
    {
     "data": {
      "text/html": [
       "<div>\n",
       "<style scoped>\n",
       "    .dataframe tbody tr th:only-of-type {\n",
       "        vertical-align: middle;\n",
       "    }\n",
       "\n",
       "    .dataframe tbody tr th {\n",
       "        vertical-align: top;\n",
       "    }\n",
       "\n",
       "    .dataframe thead th {\n",
       "        text-align: right;\n",
       "    }\n",
       "</style>\n",
       "<table border=\"1\" class=\"dataframe\">\n",
       "  <thead>\n",
       "    <tr style=\"text-align: right;\">\n",
       "      <th></th>\n",
       "      <th>audio_1</th>\n",
       "      <th>audio_2</th>\n",
       "    </tr>\n",
       "  </thead>\n",
       "  <tbody>\n",
       "    <tr>\n",
       "      <th>0</th>\n",
       "      <td>T7fYnQEQQ7hB9C1U3sol.wav</td>\n",
       "      <td>yJR6UsH5TnxQ5ycq9O0G.wav</td>\n",
       "    </tr>\n",
       "    <tr>\n",
       "      <th>1</th>\n",
       "      <td>1WVLVeCruj7tu261yhHd.wav</td>\n",
       "      <td>FIwo7q7I1L9OzzINzt2F.wav</td>\n",
       "    </tr>\n",
       "    <tr>\n",
       "      <th>2</th>\n",
       "      <td>WwKWUD24X5WBwV5Z0mIS.wav</td>\n",
       "      <td>WIt1I8pO1WG4kU3efgvG.wav</td>\n",
       "    </tr>\n",
       "    <tr>\n",
       "      <th>3</th>\n",
       "      <td>v8HbqjJ636AXO3fjZZkn.wav</td>\n",
       "      <td>8x2MYH93DksbcCYyOM9w.wav</td>\n",
       "    </tr>\n",
       "    <tr>\n",
       "      <th>4</th>\n",
       "      <td>6na1QZDnV8g6B0cOewHM.wav</td>\n",
       "      <td>CSxg52Uk6cw86PweoLwL.wav</td>\n",
       "    </tr>\n",
       "    <tr>\n",
       "      <th>...</th>\n",
       "      <td>...</td>\n",
       "      <td>...</td>\n",
       "    </tr>\n",
       "    <tr>\n",
       "      <th>49995</th>\n",
       "      <td>Dmw4GNpw7CqAXrF4c92R.wav</td>\n",
       "      <td>0HGh6PToy6BDC2RY5nGi.wav</td>\n",
       "    </tr>\n",
       "    <tr>\n",
       "      <th>49996</th>\n",
       "      <td>UtOVS521Xw6R8IgvQabT.wav</td>\n",
       "      <td>6lTFhbq1p9TcdT4cYE5S.wav</td>\n",
       "    </tr>\n",
       "    <tr>\n",
       "      <th>49997</th>\n",
       "      <td>fi31uTmrY374iQFkqTQH.wav</td>\n",
       "      <td>yHBnOhr3EK5Hc75wuSS3.wav</td>\n",
       "    </tr>\n",
       "    <tr>\n",
       "      <th>49998</th>\n",
       "      <td>mnJwv1sa4M5qeVsFN42K.wav</td>\n",
       "      <td>73J2ZgsEzmk9kz4menQi.wav</td>\n",
       "    </tr>\n",
       "    <tr>\n",
       "      <th>49999</th>\n",
       "      <td>E2cQ8M5jpbuqDfB0X5GP.wav</td>\n",
       "      <td>QSd7qplB0sXCZgq36k0X.wav</td>\n",
       "    </tr>\n",
       "  </tbody>\n",
       "</table>\n",
       "<p>50000 rows × 2 columns</p>\n",
       "</div>"
      ],
      "text/plain": [
       "                        audio_1                   audio_2\n",
       "0      T7fYnQEQQ7hB9C1U3sol.wav  yJR6UsH5TnxQ5ycq9O0G.wav\n",
       "1      1WVLVeCruj7tu261yhHd.wav  FIwo7q7I1L9OzzINzt2F.wav\n",
       "2      WwKWUD24X5WBwV5Z0mIS.wav  WIt1I8pO1WG4kU3efgvG.wav\n",
       "3      v8HbqjJ636AXO3fjZZkn.wav  8x2MYH93DksbcCYyOM9w.wav\n",
       "4      6na1QZDnV8g6B0cOewHM.wav  CSxg52Uk6cw86PweoLwL.wav\n",
       "...                         ...                       ...\n",
       "49995  Dmw4GNpw7CqAXrF4c92R.wav  0HGh6PToy6BDC2RY5nGi.wav\n",
       "49996  UtOVS521Xw6R8IgvQabT.wav  6lTFhbq1p9TcdT4cYE5S.wav\n",
       "49997  fi31uTmrY374iQFkqTQH.wav  yHBnOhr3EK5Hc75wuSS3.wav\n",
       "49998  mnJwv1sa4M5qeVsFN42K.wav  73J2ZgsEzmk9kz4menQi.wav\n",
       "49999  E2cQ8M5jpbuqDfB0X5GP.wav  QSd7qplB0sXCZgq36k0X.wav\n",
       "\n",
       "[50000 rows x 2 columns]"
      ]
     },
     "execution_count": 7,
     "metadata": {},
     "output_type": "execute_result"
    }
   ],
   "source": [
    "df_test_sub"
   ]
  },
  {
   "cell_type": "code",
   "execution_count": 13,
   "metadata": {},
   "outputs": [
    {
     "name": "stderr",
     "output_type": "stream",
     "text": [
      "Using cache found in /home/ben/.cache/torch/hub/pyannote_pyannote-audio_master\n",
      "  0%|          | 10/50000 [00:00<09:46, 85.30it/s]"
     ]
    },
    {
     "name": "stdout",
     "output_type": "stream",
     "text": [
      "Distance is 0.44759261045642396 for index 0 \n"
     ]
    },
    {
     "name": "stderr",
     "output_type": "stream",
     "text": [
      "  2%|▏         | 1020/50000 [00:10<07:48, 104.66it/s]"
     ]
    },
    {
     "name": "stdout",
     "output_type": "stream",
     "text": [
      "Distance is 0.3300155283415823 for index 1000 \n"
     ]
    },
    {
     "name": "stderr",
     "output_type": "stream",
     "text": [
      "  4%|▍         | 2010/50000 [00:20<08:14, 97.12it/s] "
     ]
    },
    {
     "name": "stdout",
     "output_type": "stream",
     "text": [
      "Distance is 0.5851683523097466 for index 2000 \n"
     ]
    },
    {
     "name": "stderr",
     "output_type": "stream",
     "text": [
      "  6%|▌         | 3015/50000 [00:29<07:06, 110.09it/s]"
     ]
    },
    {
     "name": "stdout",
     "output_type": "stream",
     "text": [
      "Distance is 0.6693447340710225 for index 3000 \n"
     ]
    },
    {
     "name": "stderr",
     "output_type": "stream",
     "text": [
      "  8%|▊         | 4013/50000 [00:39<07:01, 109.02it/s]"
     ]
    },
    {
     "name": "stdout",
     "output_type": "stream",
     "text": [
      "Distance is 0.632388061525813 for index 4000 \n"
     ]
    },
    {
     "name": "stderr",
     "output_type": "stream",
     "text": [
      " 10%|█         | 5014/50000 [00:49<07:05, 105.62it/s]"
     ]
    },
    {
     "name": "stdout",
     "output_type": "stream",
     "text": [
      "Distance is 0.38726949490392737 for index 5000 \n"
     ]
    },
    {
     "name": "stderr",
     "output_type": "stream",
     "text": [
      " 12%|█▏        | 6015/50000 [00:58<07:27, 98.24it/s] "
     ]
    },
    {
     "name": "stdout",
     "output_type": "stream",
     "text": [
      "Distance is 0.8081110075962281 for index 6000 \n"
     ]
    },
    {
     "name": "stderr",
     "output_type": "stream",
     "text": [
      " 14%|█▍        | 7021/50000 [01:08<06:33, 109.09it/s]"
     ]
    },
    {
     "name": "stdout",
     "output_type": "stream",
     "text": [
      "Distance is 0.8609988979558916 for index 7000 \n"
     ]
    },
    {
     "name": "stderr",
     "output_type": "stream",
     "text": [
      " 16%|█▌        | 8014/50000 [01:18<06:57, 100.52it/s]"
     ]
    },
    {
     "name": "stdout",
     "output_type": "stream",
     "text": [
      "Distance is 0.9943866034786691 for index 8000 \n"
     ]
    },
    {
     "name": "stderr",
     "output_type": "stream",
     "text": [
      " 18%|█▊        | 9014/50000 [01:29<09:33, 71.42it/s] "
     ]
    },
    {
     "name": "stdout",
     "output_type": "stream",
     "text": [
      "Distance is 0.6040345330139751 for index 9000 \n"
     ]
    },
    {
     "name": "stderr",
     "output_type": "stream",
     "text": [
      " 20%|██        | 10016/50000 [01:38<05:59, 111.18it/s]"
     ]
    },
    {
     "name": "stdout",
     "output_type": "stream",
     "text": [
      "Distance is 0.5364642767907055 for index 10000 \n"
     ]
    },
    {
     "name": "stderr",
     "output_type": "stream",
     "text": [
      " 22%|██▏       | 11012/50000 [01:48<05:50, 111.09it/s]"
     ]
    },
    {
     "name": "stdout",
     "output_type": "stream",
     "text": [
      "Distance is 0.9751945438186647 for index 11000 \n"
     ]
    },
    {
     "name": "stderr",
     "output_type": "stream",
     "text": [
      " 24%|██▍       | 12010/50000 [01:58<06:45, 93.71it/s] "
     ]
    },
    {
     "name": "stdout",
     "output_type": "stream",
     "text": [
      "Distance is 0.5725765971601366 for index 12000 \n"
     ]
    },
    {
     "name": "stderr",
     "output_type": "stream",
     "text": [
      " 26%|██▌       | 13021/50000 [02:08<05:53, 104.74it/s]"
     ]
    },
    {
     "name": "stdout",
     "output_type": "stream",
     "text": [
      "Distance is 0.9763168079699454 for index 13000 \n"
     ]
    },
    {
     "name": "stderr",
     "output_type": "stream",
     "text": [
      " 28%|██▊       | 14011/50000 [02:17<06:00, 99.87it/s] "
     ]
    },
    {
     "name": "stdout",
     "output_type": "stream",
     "text": [
      "Distance is 0.4414868147302786 for index 14000 \n"
     ]
    },
    {
     "name": "stderr",
     "output_type": "stream",
     "text": [
      " 30%|███       | 15017/50000 [02:27<05:38, 103.36it/s]"
     ]
    },
    {
     "name": "stdout",
     "output_type": "stream",
     "text": [
      "Distance is 0.9237216139438208 for index 15000 \n"
     ]
    },
    {
     "name": "stderr",
     "output_type": "stream",
     "text": [
      " 32%|███▏      | 16017/50000 [02:36<05:10, 109.59it/s]"
     ]
    },
    {
     "name": "stdout",
     "output_type": "stream",
     "text": [
      "Distance is 0.6837104063922601 for index 16000 \n"
     ]
    },
    {
     "name": "stderr",
     "output_type": "stream",
     "text": [
      " 34%|███▍      | 17017/50000 [02:46<04:53, 112.34it/s]"
     ]
    },
    {
     "name": "stdout",
     "output_type": "stream",
     "text": [
      "Distance is 0.9824952125181808 for index 17000 \n"
     ]
    },
    {
     "name": "stderr",
     "output_type": "stream",
     "text": [
      " 36%|███▌      | 18016/50000 [02:55<05:03, 105.35it/s]"
     ]
    },
    {
     "name": "stdout",
     "output_type": "stream",
     "text": [
      "Distance is 0.5032105186197461 for index 18000 \n"
     ]
    },
    {
     "name": "stderr",
     "output_type": "stream",
     "text": [
      " 38%|███▊      | 19016/50000 [03:04<05:33, 93.01it/s] "
     ]
    },
    {
     "name": "stdout",
     "output_type": "stream",
     "text": [
      "Distance is 0.9162618535671375 for index 19000 \n"
     ]
    },
    {
     "name": "stderr",
     "output_type": "stream",
     "text": [
      " 40%|████      | 20016/50000 [03:14<04:26, 112.63it/s]"
     ]
    },
    {
     "name": "stdout",
     "output_type": "stream",
     "text": [
      "Distance is 0.24638620759563734 for index 20000 \n"
     ]
    },
    {
     "name": "stderr",
     "output_type": "stream",
     "text": [
      " 42%|████▏     | 21012/50000 [03:23<04:58, 96.99it/s] "
     ]
    },
    {
     "name": "stdout",
     "output_type": "stream",
     "text": [
      "Distance is 0.48018832409068035 for index 21000 \n"
     ]
    },
    {
     "name": "stderr",
     "output_type": "stream",
     "text": [
      " 44%|████▍     | 22016/50000 [03:32<04:16, 109.21it/s]"
     ]
    },
    {
     "name": "stdout",
     "output_type": "stream",
     "text": [
      "Distance is 0.5045874645138598 for index 22000 \n"
     ]
    },
    {
     "name": "stderr",
     "output_type": "stream",
     "text": [
      " 46%|████▌     | 23019/50000 [03:42<04:06, 109.29it/s]"
     ]
    },
    {
     "name": "stdout",
     "output_type": "stream",
     "text": [
      "Distance is 0.671024172268091 for index 23000 \n"
     ]
    },
    {
     "name": "stderr",
     "output_type": "stream",
     "text": [
      " 48%|████▊     | 24022/50000 [03:51<03:59, 108.42it/s]"
     ]
    },
    {
     "name": "stdout",
     "output_type": "stream",
     "text": [
      "Distance is 0.7141191853075461 for index 24000 \n"
     ]
    },
    {
     "name": "stderr",
     "output_type": "stream",
     "text": [
      " 50%|█████     | 25020/50000 [04:00<03:54, 106.60it/s]"
     ]
    },
    {
     "name": "stdout",
     "output_type": "stream",
     "text": [
      "Distance is 0.3113664953823463 for index 25000 \n"
     ]
    },
    {
     "name": "stderr",
     "output_type": "stream",
     "text": [
      " 52%|█████▏    | 26013/50000 [04:09<03:36, 111.04it/s]"
     ]
    },
    {
     "name": "stdout",
     "output_type": "stream",
     "text": [
      "Distance is 0.6764646383564259 for index 26000 \n"
     ]
    },
    {
     "name": "stderr",
     "output_type": "stream",
     "text": [
      " 54%|█████▍    | 27014/50000 [04:20<04:00, 95.73it/s] "
     ]
    },
    {
     "name": "stdout",
     "output_type": "stream",
     "text": [
      "Distance is 0.6217285342676393 for index 27000 \n"
     ]
    },
    {
     "name": "stderr",
     "output_type": "stream",
     "text": [
      " 56%|█████▌    | 28016/50000 [04:29<04:04, 89.75it/s] "
     ]
    },
    {
     "name": "stdout",
     "output_type": "stream",
     "text": [
      "Distance is 1.0063735009828434 for index 28000 \n"
     ]
    },
    {
     "name": "stderr",
     "output_type": "stream",
     "text": [
      " 58%|█████▊    | 29015/50000 [04:39<02:55, 119.36it/s]"
     ]
    },
    {
     "name": "stdout",
     "output_type": "stream",
     "text": [
      "Distance is 0.6876521103872537 for index 29000 \n"
     ]
    },
    {
     "name": "stderr",
     "output_type": "stream",
     "text": [
      " 60%|██████    | 30016/50000 [04:48<03:09, 105.50it/s]"
     ]
    },
    {
     "name": "stdout",
     "output_type": "stream",
     "text": [
      "Distance is 0.5900970940557213 for index 30000 \n"
     ]
    },
    {
     "name": "stderr",
     "output_type": "stream",
     "text": [
      " 62%|██████▏   | 31025/50000 [04:57<02:46, 113.75it/s]"
     ]
    },
    {
     "name": "stdout",
     "output_type": "stream",
     "text": [
      "Distance is 0.778038178092467 for index 31000 \n"
     ]
    },
    {
     "name": "stderr",
     "output_type": "stream",
     "text": [
      " 64%|██████▍   | 32012/50000 [05:07<02:57, 101.49it/s]"
     ]
    },
    {
     "name": "stdout",
     "output_type": "stream",
     "text": [
      "Distance is 0.945654208593383 for index 32000 \n"
     ]
    },
    {
     "name": "stderr",
     "output_type": "stream",
     "text": [
      " 66%|██████▌   | 33011/50000 [05:16<02:36, 108.80it/s]"
     ]
    },
    {
     "name": "stdout",
     "output_type": "stream",
     "text": [
      "Distance is 1.0963549986884107 for index 33000 \n"
     ]
    },
    {
     "name": "stderr",
     "output_type": "stream",
     "text": [
      " 68%|██████▊   | 34021/50000 [05:25<02:22, 112.26it/s]"
     ]
    },
    {
     "name": "stdout",
     "output_type": "stream",
     "text": [
      "Distance is 0.6889963346879409 for index 34000 \n"
     ]
    },
    {
     "name": "stderr",
     "output_type": "stream",
     "text": [
      " 70%|███████   | 35015/50000 [05:34<02:22, 105.01it/s]"
     ]
    },
    {
     "name": "stdout",
     "output_type": "stream",
     "text": [
      "Distance is 0.6149669012803716 for index 35000 \n"
     ]
    },
    {
     "name": "stderr",
     "output_type": "stream",
     "text": [
      " 72%|███████▏  | 36014/50000 [05:43<02:03, 113.37it/s]"
     ]
    },
    {
     "name": "stdout",
     "output_type": "stream",
     "text": [
      "Distance is 0.4717369806773989 for index 36000 \n"
     ]
    },
    {
     "name": "stderr",
     "output_type": "stream",
     "text": [
      " 74%|███████▍  | 37014/50000 [05:53<02:03, 105.17it/s]"
     ]
    },
    {
     "name": "stdout",
     "output_type": "stream",
     "text": [
      "Distance is 0.7579755107870465 for index 37000 \n"
     ]
    },
    {
     "name": "stderr",
     "output_type": "stream",
     "text": [
      " 76%|███████▌  | 38013/50000 [06:02<01:46, 112.17it/s]"
     ]
    },
    {
     "name": "stdout",
     "output_type": "stream",
     "text": [
      "Distance is 0.3555279863451174 for index 38000 \n"
     ]
    },
    {
     "name": "stderr",
     "output_type": "stream",
     "text": [
      " 78%|███████▊  | 39020/50000 [06:12<01:44, 105.25it/s]"
     ]
    },
    {
     "name": "stdout",
     "output_type": "stream",
     "text": [
      "Distance is 0.5638488341179995 for index 39000 \n"
     ]
    },
    {
     "name": "stderr",
     "output_type": "stream",
     "text": [
      " 80%|████████  | 40021/50000 [06:21<01:35, 104.86it/s]"
     ]
    },
    {
     "name": "stdout",
     "output_type": "stream",
     "text": [
      "Distance is 0.31380269548030704 for index 40000 \n"
     ]
    },
    {
     "name": "stderr",
     "output_type": "stream",
     "text": [
      " 82%|████████▏ | 41011/50000 [06:32<01:55, 77.53it/s] "
     ]
    },
    {
     "name": "stdout",
     "output_type": "stream",
     "text": [
      "Distance is 0.4827567364412666 for index 41000 \n"
     ]
    },
    {
     "name": "stderr",
     "output_type": "stream",
     "text": [
      " 84%|████████▍ | 42012/50000 [06:41<01:15, 105.73it/s]"
     ]
    },
    {
     "name": "stdout",
     "output_type": "stream",
     "text": [
      "Distance is 0.37593151615550213 for index 42000 \n"
     ]
    },
    {
     "name": "stderr",
     "output_type": "stream",
     "text": [
      " 86%|████████▌ | 43015/50000 [06:51<01:08, 102.30it/s]"
     ]
    },
    {
     "name": "stdout",
     "output_type": "stream",
     "text": [
      "Distance is 0.32524373008286633 for index 43000 \n"
     ]
    },
    {
     "name": "stderr",
     "output_type": "stream",
     "text": [
      " 88%|████████▊ | 44014/50000 [07:00<01:02, 95.26it/s] "
     ]
    },
    {
     "name": "stdout",
     "output_type": "stream",
     "text": [
      "Distance is 0.9079389082637266 for index 44000 \n"
     ]
    },
    {
     "name": "stderr",
     "output_type": "stream",
     "text": [
      " 90%|█████████ | 45011/50000 [07:11<00:49, 101.71it/s]"
     ]
    },
    {
     "name": "stdout",
     "output_type": "stream",
     "text": [
      "Distance is 0.18578936042469996 for index 45000 \n"
     ]
    },
    {
     "name": "stderr",
     "output_type": "stream",
     "text": [
      " 92%|█████████▏| 46020/50000 [07:21<00:40, 98.75it/s] "
     ]
    },
    {
     "name": "stdout",
     "output_type": "stream",
     "text": [
      "Distance is 0.6460675134300001 for index 46000 \n"
     ]
    },
    {
     "name": "stderr",
     "output_type": "stream",
     "text": [
      " 94%|█████████▍| 47010/50000 [07:31<00:29, 100.91it/s]"
     ]
    },
    {
     "name": "stdout",
     "output_type": "stream",
     "text": [
      "Distance is 0.9657987375744395 for index 47000 \n"
     ]
    },
    {
     "name": "stderr",
     "output_type": "stream",
     "text": [
      " 96%|█████████▌| 48012/50000 [07:40<00:20, 98.54it/s] "
     ]
    },
    {
     "name": "stdout",
     "output_type": "stream",
     "text": [
      "Distance is 0.22150881677130507 for index 48000 \n"
     ]
    },
    {
     "name": "stderr",
     "output_type": "stream",
     "text": [
      " 98%|█████████▊| 49018/50000 [07:50<00:09, 104.28it/s]"
     ]
    },
    {
     "name": "stdout",
     "output_type": "stream",
     "text": [
      "Distance is 0.722943421521751 for index 49000 \n"
     ]
    },
    {
     "name": "stderr",
     "output_type": "stream",
     "text": [
      "100%|██████████| 50000/50000 [07:59<00:00, 104.21it/s]\n"
     ]
    }
   ],
   "source": [
    "# speaker embedding model trained on AMI training set\n",
    "emb = torch.hub.load('pyannote/pyannote-audio', 'emb_voxceleb')\n",
    "\n",
    "df_test_sub = pd.read_csv(\"./Train-Test-Data/public-test.csv\")\n",
    "with tqdm(total=len(df_test_sub)) as pbar:\n",
    "    for i, row in df_test_sub.iterrows():\n",
    "        audio1_embedding = np.mean(emb({\"uri\": row[\"audio_1\"], \"audio\": \"Train-Test-Data/public-test/\" + str(row[\"audio_1\"])}), axis=0, keepdims=True)\n",
    "        audio2_embedding = np.mean(emb({\"uri\": row[\"audio_2\"], \"audio\": \"Train-Test-Data/public-test/\" + str(row[\"audio_2\"])}), axis=0, keepdims=True)\n",
    "        #X_audio1 = l2_normalize(np.array([audio1_embedding,]))\n",
    "        #X_audio2 = l2_normalize(np.array([audio2_embedding,]))\n",
    "        distance = cdist(audio1_embedding, audio2_embedding, metric=\"cosine\")\n",
    "        if (i % 1000) == 0:\n",
    "            print(f\"Distance is {distance[0][0]} for index {i} \")\n",
    "        dist = distance[0][0]\n",
    "        if dist < 0.567065120412566:\n",
    "            df_test_sub.loc[i, \"label\"] = 1\n",
    "        else:\n",
    "            df_test_sub.loc[i, \"label\"] = 0\n",
    "        \n",
    "        pbar.update()"
   ]
  },
  {
   "cell_type": "code",
   "execution_count": 19,
   "metadata": {},
   "outputs": [],
   "source": [
    "df_test_sub.to_csv(\"2_voxceleb_0p567thresh_26to23_oto1.csv\", index=False)"
   ]
  },
  {
   "cell_type": "code",
   "execution_count": 18,
   "metadata": {},
   "outputs": [
    {
     "data": {
      "text/plain": [
       "0.0    26886\n",
       "1.0    23114\n",
       "Name: label, dtype: int64"
      ]
     },
     "execution_count": 18,
     "metadata": {},
     "output_type": "execute_result"
    }
   ],
   "source": [
    "df_test_sub[\"label\"].value_counts()"
   ]
  }
 ],
 "metadata": {
  "kernelspec": {
   "display_name": "pyannote",
   "language": "python",
   "name": "pyannote"
  },
  "language_info": {
   "codemirror_mode": {
    "name": "ipython",
    "version": 3
   },
   "file_extension": ".py",
   "mimetype": "text/x-python",
   "name": "python",
   "nbconvert_exporter": "python",
   "pygments_lexer": "ipython3",
   "version": "3.7.9"
  }
 },
 "nbformat": 4,
 "nbformat_minor": 4
}
